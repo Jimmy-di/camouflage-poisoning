{
  "cells": [
    {
      "cell_type": "code",
      "execution_count": null,
      "metadata": {
        "id": "W2EucuE8UmUv"
      },
      "outputs": [],
      "source": [
        "#from dataset import Dataset\n",
        "import time\n",
        "from keras.datasets import cifar10\n",
        "import numpy as np\n",
        "from sklearn.datasets import make_classification\n",
        "import matplotlib.pyplot as plt\n",
        "import seaborn as sns\n",
        "import random\n",
        "import sys\n",
        "\n",
        "import torch\n",
        "import torchvision\n",
        "import torchvision.transforms as transforms\n",
        "\n",
        "import torch.nn as nn\n",
        "import torch.nn.functional as F\n",
        "import torch.optim as optim\n",
        "from torch.optim.lr_scheduler import _LRScheduler\n",
        "import torch.utils.data as data\n",
        "from torch.nn.modules.loss import CrossEntropyLoss\n",
        "\n",
        "import torchvision.datasets as datasets\n",
        "\n",
        "import copy\n",
        "from copy import deepcopy\n",
        "import random\n",
        "import time\n",
        "\n",
        "import json\n",
        "import os\n",
        "from PIL import Image"
      ]
    },
    {
      "cell_type": "code",
      "execution_count": null,
      "metadata": {
        "colab": {
          "base_uri": "https://localhost:8080/"
        },
        "id": "r4inPj9EZm0O",
        "outputId": "87b5bb2f-1d18-402c-e2f3-03d294727840"
      },
      "outputs": [
        {
          "output_type": "stream",
          "name": "stdout",
          "text": [
            "Drive already mounted at /content/drive; to attempt to forcibly remount, call drive.mount(\"/content/drive\", force_remount=True).\n"
          ]
        }
      ],
      "source": [
        "from google.colab import drive\n",
        "drive.mount('/content/drive')"
      ]
    },
    {
      "cell_type": "code",
      "execution_count": null,
      "metadata": {
        "id": "1fNPemfCN-wv"
      },
      "outputs": [],
      "source": []
    },
    {
      "cell_type": "code",
      "execution_count": null,
      "metadata": {
        "id": "8XhIZ3QFOAHH"
      },
      "outputs": [],
      "source": []
    },
    {
      "cell_type": "code",
      "execution_count": null,
      "metadata": {
        "id": "Hn9PUMGl_Wb0"
      },
      "outputs": [],
      "source": [
        "DATASET = 'CIFAR10'      # Choose between 'CIFAR2', 'CIFAR10'\n",
        "MODEL = 'RESNET18'       # Choose between 'RESNET18', 'VGG11'\n",
        "AUGMENTS = True          # Use Data Augmentation\n",
        "SAVEMODEL = True         # Save Clean Model \n",
        "LOADMODEL = False         # Load Clean Model"
      ]
    },
    {
      "cell_type": "code",
      "execution_count": null,
      "metadata": {
        "id": "9Qs3vTkc4s1S"
      },
      "outputs": [],
      "source": [
        "# Set seed here for target / poisons / camous selection\n",
        "\n",
        "seed = 200000111\n",
        "\n",
        "#seed = 10540012\n",
        "\n"
      ]
    },
    {
      "cell_type": "markdown",
      "metadata": {
        "id": "GLLqPlIWNrFR"
      },
      "source": [
        "Prepare Datasets"
      ]
    },
    {
      "cell_type": "code",
      "execution_count": null,
      "metadata": {
        "id": "pgupIeybY30a"
      },
      "outputs": [],
      "source": []
    },
    {
      "cell_type": "code",
      "execution_count": null,
      "metadata": {
        "id": "4rw8ZyaWUyGh"
      },
      "outputs": [],
      "source": [
        "# Class Dictionary for CIFAR10\n",
        "classDict = {'plane': 0, 'car': 1, 'bird': 2, 'cat': 3, 'deer': 4,\n",
        "             'dog': 5, 'frog': 6, 'horse': 7, 'ship': 8, 'truck': 9}\n",
        "\n",
        "binaryClasses = {0:'Machine', 1:'Animal'} # Machine , Animal"
      ]
    },
    {
      "cell_type": "code",
      "execution_count": null,
      "metadata": {
        "id": "7tBrfubjN4t7"
      },
      "outputs": [],
      "source": [
        "if DATASET == 'CIFAR2' or DATASET == 'CIFAR10':\n",
        "  # Mean and std of CIFAR10:\n",
        "  data_mean = (0.4914, 0.4822, 0.4465)\n",
        "  data_std = (0.2470, 0.2435, 0.2616)\n",
        "else:\n",
        "  # Mean and std of Imagenet:\n",
        "  data_mean = (0.485, 0.456, 0.406)\n",
        "  data_std = (0.229, 0.224, 0.225)\n"
      ]
    },
    {
      "cell_type": "code",
      "execution_count": null,
      "metadata": {
        "id": "HmRD5ua40aiu"
      },
      "outputs": [],
      "source": [
        "from torch.nn.modules.transformer import TransformerDecoderLayer\n",
        "# Overwrite getitem method to obtain the index of the images when iterating through the images\n",
        "\n",
        "\n",
        "from torchvision import datasets, transforms\n",
        "from torch.utils.data import Dataset, DataLoader\n",
        "\n",
        "\n",
        "class CIFAR10(Dataset):\n",
        "    def __init__(self, train, transform):\n",
        "        self.cifar10 = torchvision.datasets.CIFAR10(\n",
        "                        root='./data', train=train, download=True, transform=transform)\n",
        "        self.targets = self.cifar10.targets\n",
        "        self.classes = self.cifar10.classes\n",
        "        self.data = self.cifar10.data\n",
        "        \n",
        "  \n",
        "    # Overloaded the getitem method to return index as well\n",
        "    def __getitem__(self, index):\n",
        "        data, target = self.cifar10[index]\n",
        "        return data, target, index\n",
        "    \n",
        "    # Method to get all images' indices from a certain class without iterating through the loader\n",
        "    def get_index(self, target_label):\n",
        "      index_list = []\n",
        "      for index, label in enumerate(self.targets):\n",
        "        if label == target_label:\n",
        "          index_list.append(index)\n",
        "      return index_list\n",
        "\n",
        "    def __len__(self):\n",
        "        return len(self.cifar10)\n",
        "\n",
        "    def remove(self, remove_list):\n",
        "      mask = np.ones(len(self.cifar10), dtype=bool)\n",
        "      mask[remove_list] = False\n",
        "      data = self.data[mask]\n"
      ]
    },
    {
      "cell_type": "code",
      "execution_count": null,
      "metadata": {
        "colab": {
          "base_uri": "https://localhost:8080/"
        },
        "id": "Vry-6elmU0zj",
        "outputId": "b2697840-b4e5-4997-e31e-f07d4b6017eb"
      },
      "outputs": [
        {
          "output_type": "stream",
          "name": "stdout",
          "text": [
            "Files already downloaded and verified\n",
            "Files already downloaded and verified\n"
          ]
        }
      ],
      "source": [
        "# Data Prep.\n",
        "\n",
        "inv_normalize = transforms.Normalize(\n",
        "   mean= [-m/s for m, s in zip(data_mean, data_std)],\n",
        "   std= [1/s for s in data_std]\n",
        ")\n",
        "\n",
        "transform_train = transforms.Compose([\n",
        "    transforms.ToTensor(),\n",
        "    transforms.Normalize(data_mean, data_std),\n",
        "])\n",
        "\n",
        "transform_test = transforms.Compose([\n",
        "    transforms.ToTensor(),\n",
        "    transforms.Normalize(data_mean, data_std),\n",
        "])\n",
        "\n",
        "if DATASET == 'CIFAR2' or DATASET == 'CIFAR10':\n",
        "  trainset = CIFAR10(train=True, transform=transform_train)\n",
        "  testset = CIFAR10(train=False, transform=transform_test)\n",
        "\n",
        "# Binary Classfication\n",
        "\n",
        "NUM_CLASS = 10\n",
        "\n",
        "if DATASET == 'CIFAR2':\n",
        "\n",
        "  # Converts to Binary Cifar 10\n",
        "  NUM_CLASS = 1\n",
        "  for i in range(len(trainset)):\n",
        "    if trainset.targets[i] in [2,3,4,5,6,7]:\n",
        "      trainset.targets[i] = 0\n",
        "    else:\n",
        "      trainset.targets[i] = 1\n",
        "\n",
        "  for i in range(len(testset)):\n",
        "    if testset.targets[i] in [2,3,4,5,6,7]:\n",
        "      testset.targets[i] = 0\n",
        "    else:\n",
        "      testset.targets[i] = 1\n",
        "\n",
        "  trainset.classes = ['animal', 'machine' ]\n",
        "  testset.classes = ['animal', 'machine' ]\n",
        "\n",
        "elif DATASET == 'Imagenet':\n",
        "  # Tiny Imagenet\n",
        "  NUM_CLASS = 200\n",
        "elif DATASET == 'FOOD101':\n",
        "  NUM_CLASS = 101\n"
      ]
    },
    {
      "cell_type": "code",
      "execution_count": null,
      "metadata": {
        "id": "24mUpaOtSSP7"
      },
      "outputs": [],
      "source": [
        "\n",
        "\n",
        "#train_indices = np.random.choice(len(trainset), 5000)\n",
        "#tets_indices = np.random.choice(len(testset), 1000)\n",
        "\n",
        "#trainset = torch.utils.data.Subset(trainset, train_indices)\n",
        "#testset = torch.utils.data.Subset(testset, tets_indices)\n",
        "\n"
      ]
    },
    {
      "cell_type": "code",
      "execution_count": null,
      "metadata": {
        "id": "hGfXn0cMS5aC"
      },
      "outputs": [],
      "source": [
        "\n",
        "trainloader = torch.utils.data.DataLoader(\n",
        "    trainset, batch_size=100, shuffle=True)\n",
        "testloader = torch.utils.data.DataLoader(\n",
        "    testset, batch_size=100, shuffle=False)\n"
      ]
    },
    {
      "cell_type": "code",
      "execution_count": null,
      "metadata": {
        "id": "otfUIW83CIkY"
      },
      "outputs": [],
      "source": []
    },
    {
      "cell_type": "markdown",
      "metadata": {
        "id": "7SCfQTmpNxCB"
      },
      "source": [
        "Initialize Models"
      ]
    },
    {
      "cell_type": "code",
      "execution_count": null,
      "metadata": {
        "id": "7bIs-1AYXToO"
      },
      "outputs": [],
      "source": [
        "class VGG(nn.Module):\n",
        "    def __init__(self, features, output_dim):\n",
        "        super().__init__()\n",
        "\n",
        "        self.features = features\n",
        "\n",
        "        self.avgpool = nn.AdaptiveAvgPool2d(7)\n",
        "\n",
        "        self.classifier = nn.Sequential(\n",
        "            nn.Linear(512 * 7 * 7, 4096),\n",
        "            nn.ReLU(inplace=True),\n",
        "            nn.Dropout(0.5),\n",
        "            nn.Linear(4096, 4096),\n",
        "            nn.ReLU(inplace=True),\n",
        "            nn.Dropout(0.5),\n",
        "            nn.Linear(4096, output_dim),\n",
        "        )\n",
        "\n",
        "    def forward(self, x):\n",
        "        x = self.features(x)\n",
        "        x = self.avgpool(x)\n",
        "        h = x.view(x.shape[0], -1)\n",
        "        x = self.classifier(h)\n",
        "        #return 2 * x - 1\n",
        "        return x\n"
      ]
    },
    {
      "cell_type": "code",
      "execution_count": null,
      "metadata": {
        "id": "lN9UKPVUXZ7e"
      },
      "outputs": [],
      "source": [
        "vgg11_config = [64, 'M', 128, 'M', 256, 256, 'M', 512, 512, 'M', 512, 512, 'M']\n",
        "vgg16_config = [64, 64, 'M', 128, 128, 'M', 256, 256, 256, 'M', 512, 512, 512, 'M', 512, 512, 512, 'M'],\n",
        "\n",
        "def get_vgg_layers(config, batch_norm):\n",
        "\n",
        "    layers = []\n",
        "    in_channels = 3\n",
        "\n",
        "    for c in config:\n",
        "        assert c == 'M' or isinstance(c, int)\n",
        "        if c == 'M':\n",
        "            layers += [nn.MaxPool2d(kernel_size=2)]\n",
        "        else:\n",
        "            conv2d = nn.Conv2d(in_channels, c, kernel_size=3, padding=1)\n",
        "            if batch_norm:\n",
        "                layers += [conv2d, nn.BatchNorm2d(c), nn.ReLU(inplace=True)]\n",
        "            else:\n",
        "                layers += [conv2d, nn.ReLU(inplace=True)]\n",
        "            in_channels = c\n",
        "\n",
        "    return nn.Sequential(*layers)"
      ]
    },
    {
      "cell_type": "code",
      "execution_count": null,
      "metadata": {
        "id": "3zAsLDrq8zrP"
      },
      "outputs": [],
      "source": [
        "# Models: AlexNet - Not used\n",
        "\n",
        "class AlexNet(nn.Module):\n",
        "    def __init__(self, num_classes: int = 1000, dropout: float = 0.5) -> None:\n",
        "        super().__init__()\n",
        "        #_log_api_usage_once(self)\n",
        "        self.features = nn.Sequential(\n",
        "            nn.Conv2d(3, 64, kernel_size=11, stride=4, padding=2),\n",
        "            nn.ReLU(inplace=True),\n",
        "            nn.MaxPool2d(kernel_size=3, stride=2),\n",
        "            nn.Conv2d(64, 192, kernel_size=5, padding=2),\n",
        "            nn.ReLU(inplace=True),\n",
        "            nn.MaxPool2d(kernel_size=3, stride=2),\n",
        "            nn.Conv2d(192, 384, kernel_size=3, padding=1),\n",
        "            nn.ReLU(inplace=True),\n",
        "            nn.Conv2d(384, 256, kernel_size=3, padding=1),\n",
        "            nn.ReLU(inplace=True),\n",
        "            nn.Conv2d(256, 256, kernel_size=3, padding=1),\n",
        "            nn.ReLU(inplace=True),\n",
        "            nn.MaxPool2d(kernel_size=3, stride=2),\n",
        "        )\n",
        "        self.avgpool = nn.AdaptiveAvgPool2d((6, 6))\n",
        "        self.classifier = nn.Sequential(\n",
        "            nn.Dropout(p=dropout),\n",
        "            nn.Linear(256 * 6 * 6, 4096),\n",
        "            nn.ReLU(inplace=True),\n",
        "            nn.Dropout(p=dropout),\n",
        "            nn.Linear(4096, 4096),\n",
        "            nn.ReLU(inplace=True),\n",
        "            nn.Linear(4096, num_classes),\n",
        "        )\n",
        "\n",
        "    def forward(self, x: torch.Tensor) -> torch.Tensor:\n",
        "        x = self.features(x)\n",
        "        x = self.avgpool(x)\n",
        "        x = torch.flatten(x, 1)\n",
        "        x = self.classifier(x)\n",
        "        return x\n",
        "\n"
      ]
    },
    {
      "cell_type": "code",
      "execution_count": null,
      "metadata": {
        "id": "qyL7UfDREeSw"
      },
      "outputs": [],
      "source": [
        "class ResNet(torchvision.models.ResNet):\n",
        "    \"\"\"ResNet generalization for CIFAR-like thingies.\n",
        "\n",
        "    This is a minor modification of\n",
        "    https://github.com/pytorch/vision/blob/master/torchvision/models/resnet.py,\n",
        "    adding additional options.\n",
        "    \"\"\"\n",
        "\n",
        "    def __init__(self, block, layers, num_classes=2, zero_init_residual=False,\n",
        "                 groups=1, base_width=64, replace_stride_with_dilation=[False, False, False, False],\n",
        "                 norm_layer=torch.nn.BatchNorm2d, strides=[1, 2, 2, 2], initial_conv=[3, 1, 1]):\n",
        "        \"\"\"Initialize as usual. Layers and strides are scriptable.\"\"\"\n",
        "        super(torchvision.models.ResNet, self).__init__()  # torch.nn.Module\n",
        "        self._norm_layer = norm_layer\n",
        "\n",
        "        self.dilation = 1\n",
        "        if len(replace_stride_with_dilation) != 4:\n",
        "            raise ValueError(\"replace_stride_with_dilation should be None \"\n",
        "                             \"or a 4-element tuple, got {}\".format(replace_stride_with_dilation))\n",
        "        self.groups = groups\n",
        "\n",
        "        self.inplanes = base_width\n",
        "        self.base_width = 64  # Do this to circumvent BasicBlock errors. The value is not actually used.\n",
        "        self.conv1 = torch.nn.Conv2d(3, self.inplanes, kernel_size=initial_conv[0],\n",
        "                                     stride=initial_conv[1], padding=initial_conv[2], bias=False)\n",
        "        self.bn1 = norm_layer(self.inplanes)\n",
        "        self.relu = torch.nn.ReLU(inplace=True)\n",
        "\n",
        "        layer_list = []\n",
        "        width = self.inplanes\n",
        "        for idx, layer in enumerate(layers):\n",
        "            layer_list.append(self._make_layer(block, width, layer, stride=strides[idx], dilate=replace_stride_with_dilation[idx]))\n",
        "            width *= 2\n",
        "        self.layers = torch.nn.Sequential(*layer_list)\n",
        "\n",
        "        self.avgpool = torch.nn.AdaptiveAvgPool2d((1, 1))\n",
        "        self.fc = torch.nn.Linear(width // 2 * block.expansion, num_classes)\n",
        "        #self.predict = nn.Sigmoid()\n",
        "\n",
        "        for m in self.modules():\n",
        "            if isinstance(m, torch.nn.Conv2d):\n",
        "                torch.nn.init.kaiming_normal_(m.weight, mode='fan_out', nonlinearity='relu')\n",
        "            elif isinstance(m, (torch.nn.BatchNorm2d, torch.nn.GroupNorm)):\n",
        "                torch.nn.init.constant_(m.weight, 1)\n",
        "                torch.nn.init.constant_(m.bias, 0)\n",
        "\n",
        "        # Zero-initialize the last BN in each residual branch,\n",
        "        # so that the residual branch starts with zeros, and each residual block behaves like an identity.\n",
        "        # This improves the arch by 0.2~0.3% according to https://arxiv.org/abs/1706.02677\n",
        "\n",
        "\n",
        "\n",
        "    def _forward_impl(self, x):\n",
        "        # See note [TorchScript super()]\n",
        "        x = self.conv1(x)\n",
        "        x = self.bn1(x)\n",
        "        x = self.relu(x)\n",
        "\n",
        "        x = self.layers(x)\n",
        "\n",
        "        x = self.avgpool(x)\n",
        "        x = torch.flatten(x, 1)\n",
        "        x = self.fc(x) # Sigmoid\n",
        "        #x = self.predict(x)\n",
        "        return x\n"
      ]
    },
    {
      "cell_type": "code",
      "execution_count": null,
      "metadata": {
        "id": "azxkoJcpXlTX"
      },
      "outputs": [],
      "source": [
        "# Select model\n",
        "vgg11_layers = get_vgg_layers(vgg11_config, batch_norm=True)\n",
        "initial_conv = [3, 1, 1]\n",
        "\n",
        "if MODEL == 'VGG11':\n",
        "  model = VGG(vgg11_layers, output_dim=NUM_CLASS)\n",
        "elif MODEL == 'RESNET18':\n",
        "  model = ResNet(torchvision.models.resnet.BasicBlock, [2, 2, 2, 2], num_classes=NUM_CLASS, base_width=64, initial_conv=initial_conv)\n",
        "elif MODEL == \"ALEXNET\":\n",
        "  model = AlexNet(num_classes = NUM_CLASS)"
      ]
    },
    {
      "cell_type": "markdown",
      "metadata": {
        "id": "xuaUG8-wN2WI"
      },
      "source": [
        "Losses and parameters for Fitting"
      ]
    },
    {
      "cell_type": "code",
      "execution_count": null,
      "metadata": {
        "id": "0G-nRPx_Um0h"
      },
      "outputs": [],
      "source": []
    },
    {
      "cell_type": "code",
      "execution_count": null,
      "metadata": {
        "colab": {
          "base_uri": "https://localhost:8080/"
        },
        "id": "lX4gOjRE5Q5u",
        "outputId": "4b566c3f-360f-465b-91c8-9e5d1c68b905"
      },
      "outputs": [
        {
          "output_type": "stream",
          "name": "stdout",
          "text": [
            "0\n",
            "5\n"
          ]
        }
      ],
      "source": [
        "# Randomly select poison and target class:\n",
        "# Assume Camouflage chosen from the same class as target.\n",
        "\n",
        "avail_classes = np.arange(NUM_CLASS)\n",
        "[target_class, poison_class] = np.random.choice(avail_classes, replace=False, size=2)\n",
        "camou_class = target_class\n",
        "\n",
        "print(target_class)\n",
        "print(poison_class)\n"
      ]
    },
    {
      "cell_type": "code",
      "execution_count": null,
      "metadata": {
        "colab": {
          "base_uri": "https://localhost:8080/"
        },
        "id": "-bWbxMqnP-hy",
        "outputId": "e10e7d86-766f-4619-dbc9-ff297a78fbfb"
      },
      "outputs": [
        {
          "output_type": "stream",
          "name": "stdout",
          "text": [
            "Running on a GPU\n"
          ]
        }
      ],
      "source": [
        "# Setting up training params\n",
        "\n",
        "epochs = 41\n",
        "eta = 0.01\n",
        "optimizer = torch.optim.SGD(params = model.parameters(), lr = eta, weight_decay = 5e-4, momentum=0.9)\n",
        "scheduler = torch.optim.lr_scheduler.ExponentialLR(optimizer, gamma=0.8)\n",
        "device = torch.device('cpu')\n",
        "if DATASET == 'CIFAR2':\n",
        "  loss_fun = nn.BCEWithLogitsLoss()\n",
        "else:\n",
        "  loss_fun = nn.CrossEntropyLoss()\n",
        "\n",
        "if torch.cuda.is_available():\n",
        "    device = torch.device('cuda')\n",
        "    print(\"Running on a GPU\")\n",
        "else:\n",
        "    print(\"Running on a CPU...Uhh, are you sure you want to do this?\")\n"
      ]
    },
    {
      "cell_type": "code",
      "execution_count": null,
      "metadata": {
        "colab": {
          "base_uri": "https://localhost:8080/"
        },
        "id": "A-Yov0q4zvrf",
        "outputId": "011eb664-ece1-49ca-e46d-52a067b937ed"
      },
      "outputs": [
        {
          "output_type": "execute_result",
          "data": {
            "text/plain": [
              "ResNet(\n",
              "  (conv1): Conv2d(3, 64, kernel_size=(3, 3), stride=(1, 1), padding=(1, 1), bias=False)\n",
              "  (bn1): BatchNorm2d(64, eps=1e-05, momentum=0.1, affine=True, track_running_stats=True)\n",
              "  (relu): ReLU(inplace=True)\n",
              "  (layers): Sequential(\n",
              "    (0): Sequential(\n",
              "      (0): BasicBlock(\n",
              "        (conv1): Conv2d(64, 64, kernel_size=(3, 3), stride=(1, 1), padding=(1, 1), bias=False)\n",
              "        (bn1): BatchNorm2d(64, eps=1e-05, momentum=0.1, affine=True, track_running_stats=True)\n",
              "        (relu): ReLU(inplace=True)\n",
              "        (conv2): Conv2d(64, 64, kernel_size=(3, 3), stride=(1, 1), padding=(1, 1), bias=False)\n",
              "        (bn2): BatchNorm2d(64, eps=1e-05, momentum=0.1, affine=True, track_running_stats=True)\n",
              "      )\n",
              "      (1): BasicBlock(\n",
              "        (conv1): Conv2d(64, 64, kernel_size=(3, 3), stride=(1, 1), padding=(1, 1), bias=False)\n",
              "        (bn1): BatchNorm2d(64, eps=1e-05, momentum=0.1, affine=True, track_running_stats=True)\n",
              "        (relu): ReLU(inplace=True)\n",
              "        (conv2): Conv2d(64, 64, kernel_size=(3, 3), stride=(1, 1), padding=(1, 1), bias=False)\n",
              "        (bn2): BatchNorm2d(64, eps=1e-05, momentum=0.1, affine=True, track_running_stats=True)\n",
              "      )\n",
              "    )\n",
              "    (1): Sequential(\n",
              "      (0): BasicBlock(\n",
              "        (conv1): Conv2d(64, 128, kernel_size=(3, 3), stride=(2, 2), padding=(1, 1), bias=False)\n",
              "        (bn1): BatchNorm2d(128, eps=1e-05, momentum=0.1, affine=True, track_running_stats=True)\n",
              "        (relu): ReLU(inplace=True)\n",
              "        (conv2): Conv2d(128, 128, kernel_size=(3, 3), stride=(1, 1), padding=(1, 1), bias=False)\n",
              "        (bn2): BatchNorm2d(128, eps=1e-05, momentum=0.1, affine=True, track_running_stats=True)\n",
              "        (downsample): Sequential(\n",
              "          (0): Conv2d(64, 128, kernel_size=(1, 1), stride=(2, 2), bias=False)\n",
              "          (1): BatchNorm2d(128, eps=1e-05, momentum=0.1, affine=True, track_running_stats=True)\n",
              "        )\n",
              "      )\n",
              "      (1): BasicBlock(\n",
              "        (conv1): Conv2d(128, 128, kernel_size=(3, 3), stride=(1, 1), padding=(1, 1), bias=False)\n",
              "        (bn1): BatchNorm2d(128, eps=1e-05, momentum=0.1, affine=True, track_running_stats=True)\n",
              "        (relu): ReLU(inplace=True)\n",
              "        (conv2): Conv2d(128, 128, kernel_size=(3, 3), stride=(1, 1), padding=(1, 1), bias=False)\n",
              "        (bn2): BatchNorm2d(128, eps=1e-05, momentum=0.1, affine=True, track_running_stats=True)\n",
              "      )\n",
              "    )\n",
              "    (2): Sequential(\n",
              "      (0): BasicBlock(\n",
              "        (conv1): Conv2d(128, 256, kernel_size=(3, 3), stride=(2, 2), padding=(1, 1), bias=False)\n",
              "        (bn1): BatchNorm2d(256, eps=1e-05, momentum=0.1, affine=True, track_running_stats=True)\n",
              "        (relu): ReLU(inplace=True)\n",
              "        (conv2): Conv2d(256, 256, kernel_size=(3, 3), stride=(1, 1), padding=(1, 1), bias=False)\n",
              "        (bn2): BatchNorm2d(256, eps=1e-05, momentum=0.1, affine=True, track_running_stats=True)\n",
              "        (downsample): Sequential(\n",
              "          (0): Conv2d(128, 256, kernel_size=(1, 1), stride=(2, 2), bias=False)\n",
              "          (1): BatchNorm2d(256, eps=1e-05, momentum=0.1, affine=True, track_running_stats=True)\n",
              "        )\n",
              "      )\n",
              "      (1): BasicBlock(\n",
              "        (conv1): Conv2d(256, 256, kernel_size=(3, 3), stride=(1, 1), padding=(1, 1), bias=False)\n",
              "        (bn1): BatchNorm2d(256, eps=1e-05, momentum=0.1, affine=True, track_running_stats=True)\n",
              "        (relu): ReLU(inplace=True)\n",
              "        (conv2): Conv2d(256, 256, kernel_size=(3, 3), stride=(1, 1), padding=(1, 1), bias=False)\n",
              "        (bn2): BatchNorm2d(256, eps=1e-05, momentum=0.1, affine=True, track_running_stats=True)\n",
              "      )\n",
              "    )\n",
              "    (3): Sequential(\n",
              "      (0): BasicBlock(\n",
              "        (conv1): Conv2d(256, 512, kernel_size=(3, 3), stride=(2, 2), padding=(1, 1), bias=False)\n",
              "        (bn1): BatchNorm2d(512, eps=1e-05, momentum=0.1, affine=True, track_running_stats=True)\n",
              "        (relu): ReLU(inplace=True)\n",
              "        (conv2): Conv2d(512, 512, kernel_size=(3, 3), stride=(1, 1), padding=(1, 1), bias=False)\n",
              "        (bn2): BatchNorm2d(512, eps=1e-05, momentum=0.1, affine=True, track_running_stats=True)\n",
              "        (downsample): Sequential(\n",
              "          (0): Conv2d(256, 512, kernel_size=(1, 1), stride=(2, 2), bias=False)\n",
              "          (1): BatchNorm2d(512, eps=1e-05, momentum=0.1, affine=True, track_running_stats=True)\n",
              "        )\n",
              "      )\n",
              "      (1): BasicBlock(\n",
              "        (conv1): Conv2d(512, 512, kernel_size=(3, 3), stride=(1, 1), padding=(1, 1), bias=False)\n",
              "        (bn1): BatchNorm2d(512, eps=1e-05, momentum=0.1, affine=True, track_running_stats=True)\n",
              "        (relu): ReLU(inplace=True)\n",
              "        (conv2): Conv2d(512, 512, kernel_size=(3, 3), stride=(1, 1), padding=(1, 1), bias=False)\n",
              "        (bn2): BatchNorm2d(512, eps=1e-05, momentum=0.1, affine=True, track_running_stats=True)\n",
              "      )\n",
              "    )\n",
              "  )\n",
              "  (avgpool): AdaptiveAvgPool2d(output_size=(1, 1))\n",
              "  (fc): Linear(in_features=512, out_features=10, bias=True)\n",
              ")"
            ]
          },
          "metadata": {},
          "execution_count": 18
        }
      ],
      "source": [
        "model.to(device)\n",
        "model.train()"
      ]
    },
    {
      "cell_type": "code",
      "execution_count": null,
      "metadata": {
        "colab": {
          "base_uri": "https://localhost:8080/",
          "height": 320
        },
        "id": "tudqnx_ETBZi",
        "outputId": "4730a480-ed89-4c7b-a87a-bc8a66060ba6"
      },
      "outputs": [
        {
          "output_type": "stream",
          "name": "stderr",
          "text": [
            "WARNING:matplotlib.image:Clipping input data to the valid range for imshow with RGB data ([0..1] for floats or [0..255] for integers).\n"
          ]
        },
        {
          "output_type": "stream",
          "name": "stdout",
          "text": [
            "Target image is chosen with ID [2040]\n"
          ]
        },
        {
          "output_type": "execute_result",
          "data": {
            "text/plain": [
              "<matplotlib.image.AxesImage at 0x7f3892af0f50>"
            ]
          },
          "metadata": {},
          "execution_count": 19
        },
        {
          "output_type": "display_data",
          "data": {
            "text/plain": [
              "<Figure size 432x288 with 1 Axes>"
            ],
            "image/png": "[encoded data removed]"
          },
          "metadata": {
            "needs_background": "light"
          }
        }
      ],
      "source": [
        "# Get loss of each in the loader and choose Target\n",
        " \n",
        "poison_index = trainset.get_index(poison_class)\n",
        "target_index = testset.get_index(target_class)\n",
        "camou_index = trainset.get_index(camou_class)\n",
        "\n",
        "# Choose Target\n",
        "target_index = [np.random.choice(target_index)]\n",
        "\n",
        "\n",
        "targetset = data.Subset(testset, target_index)\n",
        "targetloader = torch.utils.data.DataLoader(targetset)\n",
        "\n",
        "print(\"Target image is chosen with ID {}\".format(target_index))\n",
        "plt.imshow(testset[target_index[0]][0].permute(1, 2, 0))"
      ]
    },
    {
      "cell_type": "code",
      "execution_count": null,
      "metadata": {
        "id": "MgPkXoVwyUAj"
      },
      "outputs": [],
      "source": [
        "# Optional Augmentation defenses\n",
        "\n",
        "aug_transform1 = transforms.Compose([\n",
        "transforms.RandomHorizontalFlip(p=0.5),\n",
        "transforms.RandomRotation(degrees=5)\n",
        "])\n",
        "\n",
        "aug_transform = transforms.Compose([\n",
        "transforms.RandomHorizontalFlip(p=0.5)\n",
        "])"
      ]
    },
    {
      "cell_type": "markdown",
      "metadata": {
        "id": "sodf_epUN-Vt"
      },
      "source": [
        "Fit\n"
      ]
    },
    {
      "cell_type": "code",
      "execution_count": null,
      "metadata": {
        "colab": {
          "base_uri": "https://localhost:8080/"
        },
        "id": "m5QeHu_cC-ue",
        "outputId": "e2d86233-ae0c-4905-f862-0aaba8dd5494"
      },
      "outputs": [
        {
          "output_type": "stream",
          "name": "stdout",
          "text": [
            "Training Epoch 0: Loss: 1.4122583438158036, Accuracy: 0.4822\n",
            "Target Original Loss: 1.3655848503112793\n",
            "Validation Epoch 0: Valid loss: 1.0898996955156326, Accuracy: 0.6114\n",
            "Training Epoch 1: Loss: 0.8714788924455643, Accuracy: 0.6895\n",
            "Training Epoch 2: Loss: 0.6468826183676719, Accuracy: 0.77356\n",
            "Training Epoch 3: Loss: 0.4979040352702141, Accuracy: 0.82808\n",
            "Training Epoch 4: Loss: 0.3812863177061081, Accuracy: 0.87084\n",
            "Training Epoch 5: Loss: 0.2847352766096592, Accuracy: 0.90534\n",
            "Training Epoch 6: Loss: 0.19950987668335438, Accuracy: 0.93794\n",
            "Training Epoch 7: Loss: 0.1360880668014288, Accuracy: 0.96022\n",
            "Training Epoch 8: Loss: 0.09416255746781826, Accuracy: 0.97596\n",
            "Training Epoch 9: Loss: 0.06053185109049082, Accuracy: 0.98704\n",
            "Training Epoch 10: Loss: 0.04195688809081912, Accuracy: 0.99256\n",
            "Target Original Loss: 0.00023195437097456306\n",
            "Validation Epoch 10: Valid loss: 0.623883750140667, Accuracy: 0.823\n",
            "Training Epoch 11: Loss: 0.03045264834538102, Accuracy: 0.99556\n",
            "Training Epoch 12: Loss: 0.02337538927141577, Accuracy: 0.9972\n",
            "Training Epoch 13: Loss: 0.018799386121332647, Accuracy: 0.99858\n",
            "Training Epoch 14: Loss: 0.015832395390607417, Accuracy: 0.99894\n",
            "Training Epoch 15: Loss: 0.014637513580732047, Accuracy: 0.99928\n",
            "Training Epoch 16: Loss: 0.01343743400555104, Accuracy: 0.99932\n",
            "Training Epoch 17: Loss: 0.012409384412690997, Accuracy: 0.9997\n",
            "Training Epoch 18: Loss: 0.01172924978658557, Accuracy: 0.99972\n",
            "Training Epoch 19: Loss: 0.011916296687908471, Accuracy: 0.9996\n",
            "Training Epoch 20: Loss: 0.011438254822045565, Accuracy: 0.99966\n",
            "Target Original Loss: 0.00014649749209638685\n",
            "Validation Epoch 20: Valid loss: 0.6469818577170372, Accuracy: 0.8242\n",
            "Training Epoch 21: Loss: 0.010947589414659887, Accuracy: 0.99966\n",
            "Training Epoch 22: Loss: 0.011050583622418344, Accuracy: 0.99966\n",
            "Training Epoch 23: Loss: 0.010918091354891657, Accuracy: 0.9997\n",
            "Training Epoch 24: Loss: 0.010673433121759444, Accuracy: 0.99968\n",
            "Training Epoch 25: Loss: 0.010502734534908086, Accuracy: 0.99986\n",
            "Training Epoch 26: Loss: 0.01060974533483386, Accuracy: 0.99966\n",
            "Training Epoch 27: Loss: 0.0105925457268022, Accuracy: 0.99978\n",
            "Training Epoch 28: Loss: 0.010545999093912541, Accuracy: 0.99984\n",
            "Training Epoch 29: Loss: 0.01041824907436967, Accuracy: 0.99978\n",
            "Training Epoch 30: Loss: 0.010316109240520746, Accuracy: 0.9999\n",
            "Target Original Loss: 0.00013433984713628888\n",
            "Validation Epoch 30: Valid loss: 0.6529783022403717, Accuracy: 0.8237\n",
            "Training Epoch 31: Loss: 0.010431016526184975, Accuracy: 0.99982\n",
            "Training Epoch 32: Loss: 0.010133783603087067, Accuracy: 0.99984\n",
            "Training Epoch 33: Loss: 0.010215580474585295, Accuracy: 0.9999\n",
            "Training Epoch 34: Loss: 0.010370743653737009, Accuracy: 0.99972\n",
            "Training Epoch 35: Loss: 0.010390182223170995, Accuracy: 0.99976\n",
            "Training Epoch 36: Loss: 0.010264463651925326, Accuracy: 0.99978\n",
            "Training Epoch 37: Loss: 0.0102365712672472, Accuracy: 0.99984\n",
            "Training Epoch 38: Loss: 0.010419539630413055, Accuracy: 0.99984\n",
            "Training Epoch 39: Loss: 0.010283264894969762, Accuracy: 0.9997\n",
            "Training Epoch 40: Loss: 0.010156393003650009, Accuracy: 0.99988\n",
            "Target Original Loss: 0.00013410145766101778\n",
            "Validation Epoch 40: Valid loss: 0.6529730442166328, Accuracy: 0.8242\n",
            "--- 2213.230954170227 seconds ---\n"
          ]
        }
      ],
      "source": [
        "start_time = time.time()\n",
        "\n",
        "\n",
        "if not LOADMODEL:\n",
        "  for epoch in range(epochs):\n",
        "    train_loss = []\n",
        "\n",
        "    correct_preds = 0\n",
        "    total_preds = 0\n",
        "    model.train()\n",
        "    for inputs, labels, index in trainloader:\n",
        "\n",
        "      inputs, labels = inputs.to(device), labels.to(device)\n",
        "      if AUGMENTS:\n",
        "        inputs = aug_transform(inputs)\n",
        "\n",
        "      optimizer.zero_grad()            # reset the gradients to zero\n",
        "      output = model(inputs)            # Generate model outputs\n",
        "\n",
        "      if DATASET == 'CIFAR2':\n",
        "        labels = labels.to(torch.float32)\n",
        "        output = output.flatten()\n",
        "      loss = loss_fun(output, labels)   # Calculate loss\n",
        "\n",
        "      loss.backward()            # Compute gradients\n",
        "      optimizer.step()            # update parameters,\n",
        "\n",
        "      \n",
        "      #For BCELoss:\n",
        "      if DATASET == 'CIFAR2':\n",
        "        predictions = torch.where(output < 0, 0, 1)\n",
        "      else:\n",
        "        predictions = torch.argmax(output.data, dim=1)\n",
        "\n",
        "      total_preds += labels.size(0)\n",
        "      correct_preds += (predictions == labels).sum().item()\n",
        "\n",
        "      train_loss.append(loss.item())\n",
        "\n",
        "    print(\"Training Epoch {}: Loss: {}, Accuracy: {}\".format(epoch, np.mean(train_loss), correct_preds / total_preds))\n",
        "    # validation phase - once every 10 epochs\n",
        "      \n",
        "    if epoch % 10 == 0:\n",
        "      valid_losses = []\n",
        "      correct = 0\n",
        "      total = 0\n",
        "      model.eval()\n",
        "\n",
        "      # Evaluate Model\n",
        "      for inputs, labels, index in testloader:\n",
        "        inputs, labels = inputs.to(device), labels.to(device)\n",
        "\n",
        "\n",
        "        with torch.no_grad():\n",
        "          output = model(inputs)\n",
        "          if DATASET == 'CIFAR2':\n",
        "            labels = labels.to(torch.float32)\n",
        "            output = output.flatten()\n",
        "          \n",
        "          # negative labels: when using hinge embedding loss only\n",
        "          flipped_labels = labels # * -1\n",
        "          loss = loss_fun(output, flipped_labels)   # Calculate loss\n",
        "          \n",
        "          valid_loss = loss_fun(output, labels)\n",
        "          valid_losses.append(valid_loss.item())\n",
        "\n",
        "          #predictions = torch.argmax(output, dim=1)\n",
        "          if DATASET == 'CIFAR2':\n",
        "            predictions = torch.where(output < 0, 0, 1)\n",
        "          else:\n",
        "            predictions = torch.argmax(output.data, dim=1)\n",
        "          total += labels.size(0)\n",
        "          correct += (predictions == labels).sum().item()\n",
        "      \n",
        "      # Evaluate Model on Target\n",
        "      for inputs, labels, index in targetloader:\n",
        "        #\n",
        "        inputs, labels = inputs.to(device), labels.to(device)\n",
        "        with torch.no_grad():\n",
        "          output = model(inputs)\n",
        "          if DATASET == 'CIFAR2':\n",
        "            labels = labels.to(torch.float32)\n",
        "            output = output.flatten()\n",
        "          #predictions = torch.argmax(output.data, dim=1)\n",
        "          target_loss = loss_fun(output, labels)\n",
        "          if DATASET == 'CIFAR2':\n",
        "            predictions = torch.where(output < 0, 0, 1)\n",
        "          else:\n",
        "            predictions = torch.argmax(output.data, dim=1)\n",
        "          print(\"Target Original Loss: {}\".format(target_loss))\n",
        "\n",
        "      print(\"Validation Epoch {}: Valid loss: {}, Accuracy: {}\".format(epoch, np.mean(valid_losses), correct / total))\n",
        "    scheduler.step()\n",
        "    \n",
        "  #   torch.autograd(model, target)\n",
        "print(\"--- %s seconds ---\" % (time.time() - start_time))"
      ]
    },
    {
      "cell_type": "code",
      "execution_count": null,
      "metadata": {
        "id": "r0Z7SV8zCout"
      },
      "outputs": [],
      "source": [
        "# Saving Clean Model\n",
        "\n",
        "import os\n",
        "PATH = \"./drive/MyDrive/Poisoning_Machine_Unlearning/model\"\n",
        "os.makedirs(PATH, exist_ok = True) \n",
        "PATH += \"/resnet_cifar.ptr\"\n"
      ]
    },
    {
      "cell_type": "code",
      "execution_count": null,
      "metadata": {
        "id": "iTsAKd9tTAZN"
      },
      "outputs": [],
      "source": [
        "if LOADMODEL:\n",
        "  model.load_state_dict(torch.load(PATH))\n",
        "  model.to(device)\n",
        "  \n",
        "if SAVEMODEL:\n",
        "  torch.save(model.state_dict(), PATH)"
      ]
    },
    {
      "cell_type": "code",
      "execution_count": null,
      "metadata": {
        "id": "wQCH6jOwTFWX"
      },
      "outputs": [],
      "source": [
        "# Creating a subset of all machine images:\n",
        "\n",
        "#machine_index = []\n",
        "\n",
        "#for index in range(len(testset)):\n",
        "#  if testset.targets[index] == -1:\n",
        "#    machine_index.append(index)\n",
        "\n",
        "#print(machine_index)\n",
        "\n",
        "# torch.util.data.Subset()\n",
        "#machine_loader = \n"
      ]
    },
    {
      "cell_type": "code",
      "execution_count": null,
      "metadata": {
        "id": "UCvuj8ebXsGt"
      },
      "outputs": [],
      "source": []
    },
    {
      "cell_type": "code",
      "execution_count": null,
      "metadata": {
        "id": "R9S-Xo-zy5F9"
      },
      "outputs": [],
      "source": []
    },
    {
      "cell_type": "code",
      "execution_count": null,
      "metadata": {
        "id": "ad5k6yysaUcX"
      },
      "outputs": [],
      "source": [
        "# Inverse normalization\n",
        "\n",
        "inv_normalize = transforms.Normalize(\n",
        "   mean= [-m/s for m, s in zip(data_mean, data_std)],\n",
        "   std= [1/s for s in data_std]\n",
        ")"
      ]
    },
    {
      "cell_type": "code",
      "execution_count": null,
      "metadata": {
        "colab": {
          "base_uri": "https://localhost:8080/",
          "height": 284
        },
        "id": "xLCHNbZcZfdO",
        "outputId": "34117c44-8d4d-47be-9bd8-14fbda57e368"
      },
      "outputs": [
        {
          "output_type": "stream",
          "name": "stdout",
          "text": [
            "torch.Size([3, 32, 32])\n"
          ]
        },
        {
          "output_type": "display_data",
          "data": {
            "text/plain": [
              "<Figure size 432x288 with 1 Axes>"
            ],
            "image/png": "[encoded data removed]"
          },
          "metadata": {
            "needs_background": "light"
          }
        }
      ],
      "source": [
        "# Show Target Image:\n",
        "print(testset[target_index[0]][0].shape)\n",
        "plt.imshow(inv_normalize(testset[target_index[0]][0]).permute(1, 2, 0))\n",
        "target_image = data.Subset(testset, indices=target_index)\n",
        "target_label = torch.Tensor([5]).to(device).long()\n"
      ]
    },
    {
      "cell_type": "code",
      "execution_count": null,
      "metadata": {
        "id": "iLU8bxC7bdg4"
      },
      "outputs": [],
      "source": [
        "# Poison parameters:\n",
        "# theta = model.coef_\n",
        "budget = 750 # number of poisoned images\n",
        "camou_budget = 500\n",
        "R = 8 # restarts\n",
        "epsilon = 16 # perturbation bound\n",
        "attackiter = 251 # optimization steps\n",
        "loss_opt = sys.maxsize # optimal loss\n",
        "delta_opt = 0 # optimal delta\n",
        "poison_opt = [] # optimal poison images"
      ]
    },
    {
      "cell_type": "code",
      "execution_count": null,
      "metadata": {
        "id": "Jd6Z4UIRalno"
      },
      "outputs": [],
      "source": [
        "# Choose Poison Images:\n",
        "\n",
        "poison_index = np.random.choice(poison_index, budget, replace=False)\n",
        "poison_dict = {}\n",
        "\n",
        "for index, val in enumerate(poison_index):\n",
        "  poison_dict[val] = index\n",
        "\n"
      ]
    },
    {
      "cell_type": "code",
      "execution_count": null,
      "metadata": {
        "id": "kQSyPAS9ds49"
      },
      "outputs": [],
      "source": [
        "poisonset = data.Subset(trainset, poison_index)\n",
        "poisonloader = torch.utils.data.DataLoader(poisonset, batch_size=128, drop_last=False)"
      ]
    },
    {
      "cell_type": "code",
      "execution_count": null,
      "metadata": {
        "id": "8yI1T2EsOoyd"
      },
      "outputs": [],
      "source": []
    },
    {
      "cell_type": "code",
      "execution_count": null,
      "metadata": {
        "id": "P9ZmUHSbwSYq"
      },
      "outputs": [],
      "source": []
    },
    {
      "cell_type": "code",
      "execution_count": null,
      "metadata": {
        "colab": {
          "base_uri": "https://localhost:8080/"
        },
        "id": "groYJxo-dxsp",
        "outputId": "0c9b9770-a806-478e-cdba-118d2b1f98be"
      },
      "outputs": [
        {
          "output_type": "stream",
          "name": "stdout",
          "text": [
            "tensor([[[[0.2470]],\n",
            "\n",
            "         [[0.2435]],\n",
            "\n",
            "         [[0.2616]]]])\n",
            "tensor([[[[0.4914]],\n",
            "\n",
            "         [[0.4822]],\n",
            "\n",
            "         [[0.4465]]]])\n"
          ]
        },
        {
          "output_type": "execute_result",
          "data": {
            "text/plain": [
              "ResNet(\n",
              "  (conv1): Conv2d(3, 64, kernel_size=(3, 3), stride=(1, 1), padding=(1, 1), bias=False)\n",
              "  (bn1): BatchNorm2d(64, eps=1e-05, momentum=0.1, affine=True, track_running_stats=True)\n",
              "  (relu): ReLU(inplace=True)\n",
              "  (layers): Sequential(\n",
              "    (0): Sequential(\n",
              "      (0): BasicBlock(\n",
              "        (conv1): Conv2d(64, 64, kernel_size=(3, 3), stride=(1, 1), padding=(1, 1), bias=False)\n",
              "        (bn1): BatchNorm2d(64, eps=1e-05, momentum=0.1, affine=True, track_running_stats=True)\n",
              "        (relu): ReLU(inplace=True)\n",
              "        (conv2): Conv2d(64, 64, kernel_size=(3, 3), stride=(1, 1), padding=(1, 1), bias=False)\n",
              "        (bn2): BatchNorm2d(64, eps=1e-05, momentum=0.1, affine=True, track_running_stats=True)\n",
              "      )\n",
              "      (1): BasicBlock(\n",
              "        (conv1): Conv2d(64, 64, kernel_size=(3, 3), stride=(1, 1), padding=(1, 1), bias=False)\n",
              "        (bn1): BatchNorm2d(64, eps=1e-05, momentum=0.1, affine=True, track_running_stats=True)\n",
              "        (relu): ReLU(inplace=True)\n",
              "        (conv2): Conv2d(64, 64, kernel_size=(3, 3), stride=(1, 1), padding=(1, 1), bias=False)\n",
              "        (bn2): BatchNorm2d(64, eps=1e-05, momentum=0.1, affine=True, track_running_stats=True)\n",
              "      )\n",
              "    )\n",
              "    (1): Sequential(\n",
              "      (0): BasicBlock(\n",
              "        (conv1): Conv2d(64, 128, kernel_size=(3, 3), stride=(2, 2), padding=(1, 1), bias=False)\n",
              "        (bn1): BatchNorm2d(128, eps=1e-05, momentum=0.1, affine=True, track_running_stats=True)\n",
              "        (relu): ReLU(inplace=True)\n",
              "        (conv2): Conv2d(128, 128, kernel_size=(3, 3), stride=(1, 1), padding=(1, 1), bias=False)\n",
              "        (bn2): BatchNorm2d(128, eps=1e-05, momentum=0.1, affine=True, track_running_stats=True)\n",
              "        (downsample): Sequential(\n",
              "          (0): Conv2d(64, 128, kernel_size=(1, 1), stride=(2, 2), bias=False)\n",
              "          (1): BatchNorm2d(128, eps=1e-05, momentum=0.1, affine=True, track_running_stats=True)\n",
              "        )\n",
              "      )\n",
              "      (1): BasicBlock(\n",
              "        (conv1): Conv2d(128, 128, kernel_size=(3, 3), stride=(1, 1), padding=(1, 1), bias=False)\n",
              "        (bn1): BatchNorm2d(128, eps=1e-05, momentum=0.1, affine=True, track_running_stats=True)\n",
              "        (relu): ReLU(inplace=True)\n",
              "        (conv2): Conv2d(128, 128, kernel_size=(3, 3), stride=(1, 1), padding=(1, 1), bias=False)\n",
              "        (bn2): BatchNorm2d(128, eps=1e-05, momentum=0.1, affine=True, track_running_stats=True)\n",
              "      )\n",
              "    )\n",
              "    (2): Sequential(\n",
              "      (0): BasicBlock(\n",
              "        (conv1): Conv2d(128, 256, kernel_size=(3, 3), stride=(2, 2), padding=(1, 1), bias=False)\n",
              "        (bn1): BatchNorm2d(256, eps=1e-05, momentum=0.1, affine=True, track_running_stats=True)\n",
              "        (relu): ReLU(inplace=True)\n",
              "        (conv2): Conv2d(256, 256, kernel_size=(3, 3), stride=(1, 1), padding=(1, 1), bias=False)\n",
              "        (bn2): BatchNorm2d(256, eps=1e-05, momentum=0.1, affine=True, track_running_stats=True)\n",
              "        (downsample): Sequential(\n",
              "          (0): Conv2d(128, 256, kernel_size=(1, 1), stride=(2, 2), bias=False)\n",
              "          (1): BatchNorm2d(256, eps=1e-05, momentum=0.1, affine=True, track_running_stats=True)\n",
              "        )\n",
              "      )\n",
              "      (1): BasicBlock(\n",
              "        (conv1): Conv2d(256, 256, kernel_size=(3, 3), stride=(1, 1), padding=(1, 1), bias=False)\n",
              "        (bn1): BatchNorm2d(256, eps=1e-05, momentum=0.1, affine=True, track_running_stats=True)\n",
              "        (relu): ReLU(inplace=True)\n",
              "        (conv2): Conv2d(256, 256, kernel_size=(3, 3), stride=(1, 1), padding=(1, 1), bias=False)\n",
              "        (bn2): BatchNorm2d(256, eps=1e-05, momentum=0.1, affine=True, track_running_stats=True)\n",
              "      )\n",
              "    )\n",
              "    (3): Sequential(\n",
              "      (0): BasicBlock(\n",
              "        (conv1): Conv2d(256, 512, kernel_size=(3, 3), stride=(2, 2), padding=(1, 1), bias=False)\n",
              "        (bn1): BatchNorm2d(512, eps=1e-05, momentum=0.1, affine=True, track_running_stats=True)\n",
              "        (relu): ReLU(inplace=True)\n",
              "        (conv2): Conv2d(512, 512, kernel_size=(3, 3), stride=(1, 1), padding=(1, 1), bias=False)\n",
              "        (bn2): BatchNorm2d(512, eps=1e-05, momentum=0.1, affine=True, track_running_stats=True)\n",
              "        (downsample): Sequential(\n",
              "          (0): Conv2d(256, 512, kernel_size=(1, 1), stride=(2, 2), bias=False)\n",
              "          (1): BatchNorm2d(512, eps=1e-05, momentum=0.1, affine=True, track_running_stats=True)\n",
              "        )\n",
              "      )\n",
              "      (1): BasicBlock(\n",
              "        (conv1): Conv2d(512, 512, kernel_size=(3, 3), stride=(1, 1), padding=(1, 1), bias=False)\n",
              "        (bn1): BatchNorm2d(512, eps=1e-05, momentum=0.1, affine=True, track_running_stats=True)\n",
              "        (relu): ReLU(inplace=True)\n",
              "        (conv2): Conv2d(512, 512, kernel_size=(3, 3), stride=(1, 1), padding=(1, 1), bias=False)\n",
              "        (bn2): BatchNorm2d(512, eps=1e-05, momentum=0.1, affine=True, track_running_stats=True)\n",
              "      )\n",
              "    )\n",
              "  )\n",
              "  (avgpool): AdaptiveAvgPool2d(output_size=(1, 1))\n",
              "  (fc): Linear(in_features=512, out_features=10, bias=True)\n",
              ")"
            ]
          },
          "metadata": {},
          "execution_count": 30
        }
      ],
      "source": [
        "# Initialize poison_delta\n",
        "\n",
        "std_tensor = torch.tensor(data_std)[None, :, None, None]\n",
        "mean_tensor = torch.tensor(data_mean)[None, :, None, None]\n",
        "\n",
        "print(std_tensor)\n",
        "print(mean_tensor)\n",
        "\n",
        "model.eval()\n"
      ]
    },
    {
      "cell_type": "code",
      "execution_count": null,
      "metadata": {
        "id": "uG9txCdASWfh"
      },
      "outputs": [],
      "source": [
        "# Function to calculate gradient:\n",
        "\n",
        "def gradient(model, images, labels, criterion=None):\n",
        "    \"\"\"Compute the gradient of criterion(model) w.r.t to given data.\"\"\"\n",
        "\n",
        "#    labels_uns = labels.unsqueeze(1)\n",
        "#    labels_uns = labels_uns\n",
        "    if DATASET == 'CIFAR2':\n",
        "      loss = loss_fun(model(images).flatten(), labels.float())\n",
        "    else:\n",
        "      loss = loss_fun(model(images), labels)\n",
        "    gradients = torch.autograd.grad(loss, model.parameters(), only_inputs=True)\n",
        "    grad_norm = 0\n",
        "    for grad in gradients:\n",
        "        grad_norm += grad.detach().pow(2).sum()\n",
        "    grad_norm = grad_norm.sqrt()\n",
        "    return gradients, grad_norm"
      ]
    },
    {
      "cell_type": "code",
      "execution_count": null,
      "metadata": {
        "colab": {
          "base_uri": "https://localhost:8080/"
        },
        "id": "vetgOKJD_xst",
        "outputId": "7c4715d5-a055-430e-d969-acde0b8e22e3"
      },
      "outputs": [
        {
          "output_type": "stream",
          "name": "stdout",
          "text": [
            "tensor([0], device='cuda:0')\n",
            "tensor(479.2502, device='cuda:0')\n"
          ]
        }
      ],
      "source": [
        "# Calculate target gradient:\n",
        "\n",
        "targets = torch.stack([data[0] for data in target_image], dim=0).to(device)\n",
        "intended_classes = torch.tensor([poison_class]).to(device=device, dtype=torch.long)\n",
        "true_classes = torch.tensor([data[1] for data in target_image]).to(device=device, dtype=torch.long)\n",
        "\n",
        "\n",
        "print(true_classes)\n",
        "\n",
        "target_grad, target_grad_norm = gradient(model, targets, intended_classes)\n",
        "\n",
        "print(target_grad_norm)"
      ]
    },
    {
      "cell_type": "code",
      "execution_count": null,
      "metadata": {
        "id": "2CPlkTgeYLZr"
      },
      "outputs": [],
      "source": [
        "# Similarity Loss calculation for poison\n",
        "\n",
        "norm_type = 2\n",
        "support_data = {}\n",
        "\n",
        "def compute_loss(inputs, labels, support_data):\n",
        "  target_losses = 0 \n",
        "  poison_norm = 0\n",
        "\n",
        "  outputs = model(inputs)#.flatten()\n",
        "  flipped_labels = labels#* -1\n",
        "  \n",
        "  if DATASET == 'CIFAR2':\n",
        "    labels = labels.to(torch.float32)\n",
        "    outputs = outputs.flatten()\n",
        "    poison_prediction = torch.where(outputs < 0, 0, 1)\n",
        "  else:\n",
        "    poison_prediction = torch.argmax(outputs.data, dim=1)\n",
        "\n",
        "  poison_correct = (poison_prediction == labels).sum().item()\n",
        "\n",
        "  poison_loss = loss_fun(outputs, flipped_labels)\n",
        "  poison_grad = torch.autograd.grad(poison_loss, model.parameters(), retain_graph=True, create_graph=True)\n",
        "\n",
        "  indices = torch.arange(len(poison_grad))\n",
        "  #print(indices)\n",
        "  for i in indices:\n",
        "    target_losses -= (poison_grad[i] * target_grad[i]).sum()\n",
        "    poison_norm += poison_grad[i].pow(2).sum()\n",
        "\n",
        "  poison_norm = poison_norm.sqrt()\n",
        "\n",
        "  # poison_grad_norm = torch.norm(torch.stack([torch.norm(grad, norm_type).to(device) for grad in poison_grad]), norm_type)\n",
        "  target_losses /= target_grad_norm \n",
        "\n",
        "  target_losses = 1 + target_losses / poison_norm\n",
        "  target_losses.backward()\n",
        "\n",
        "  return target_losses.detach().cpu(), poison_correct\n",
        "\n",
        "\n",
        "#compute_loss(support_data)"
      ]
    },
    {
      "cell_type": "markdown",
      "metadata": {
        "id": "uFHTe9bdXw7i"
      },
      "source": [
        "# Witches Brew"
      ]
    },
    {
      "cell_type": "code",
      "execution_count": null,
      "metadata": {
        "colab": {
          "base_uri": "https://localhost:8080/",
          "height": 1000
        },
        "id": "1GKM6Dbj_nOZ",
        "outputId": "15626f2c-2923-4fa5-985a-ea68d1d03555"
      },
      "outputs": [
        {
          "output_type": "stream",
          "name": "stdout",
          "text": [
            "Trial #0:\n"
          ]
        },
        {
          "output_type": "display_data",
          "data": {
            "text/plain": [
              "<Figure size 432x288 with 1 Axes>"
            ],
            "image/png": "[encoded data removed]"
          },
          "metadata": {
            "needs_background": "light"
          }
        },
        {
          "output_type": "stream",
          "name": "stderr",
          "text": [
            "WARNING:matplotlib.image:Clipping input data to the valid range for imshow with RGB data ([0..1] for floats or [0..255] for integers).\n"
          ]
        },
        {
          "output_type": "display_data",
          "data": {
            "text/plain": [
              "<Figure size 432x288 with 1 Axes>"
            ],
            "image/png": "[encoded data removed]"
          },
          "metadata": {
            "needs_background": "light"
          }
        },
        {
          "output_type": "stream",
          "name": "stdout",
          "text": [
            "For iterations 0 Target-Poison Loss is 0.6808828711509705\n",
            "For iterations 0 Poison accuracy is 0.8973333333333333\n"
          ]
        },
        {
          "output_type": "display_data",
          "data": {
            "text/plain": [
              "<Figure size 432x288 with 1 Axes>"
            ],
            "image/png": "[encoded data removed]"
          },
          "metadata": {
            "needs_background": "light"
          }
        },
        {
          "output_type": "display_data",
          "data": {
            "text/plain": [
              "<Figure size 432x288 with 1 Axes>"
            ],
            "image/png": "[encoded data removed]"
          },
          "metadata": {
            "needs_background": "light"
          }
        },
        {
          "output_type": "stream",
          "name": "stdout",
          "text": [
            "For iterations 50 Target-Poison Loss is 0.2967611253261566\n",
            "For iterations 50 Poison accuracy is 0.3293333333333333\n"
          ]
        },
        {
          "output_type": "display_data",
          "data": {
            "text/plain": [
              "<Figure size 432x288 with 1 Axes>"
            ],
            "image/png": "[encoded data removed]"
          },
          "metadata": {
            "needs_background": "light"
          }
        },
        {
          "output_type": "display_data",
          "data": {
            "text/plain": [
              "<Figure size 432x288 with 1 Axes>"
            ],
            "image/png": "[encoded data removed]"
          },
          "metadata": {
            "needs_background": "light"
          }
        },
        {
          "output_type": "stream",
          "name": "stdout",
          "text": [
            "For iterations 100 Target-Poison Loss is 0.2684941589832306\n",
            "For iterations 100 Poison accuracy is 0.352\n"
          ]
        },
        {
          "output_type": "display_data",
          "data": {
            "text/plain": [
              "<Figure size 432x288 with 1 Axes>"
            ],
            "image/png": "[encoded data removed]"
          },
          "metadata": {
            "needs_background": "light"
          }
        },
        {
          "output_type": "display_data",
          "data": {
            "text/plain": [
              "<Figure size 432x288 with 1 Axes>"
            ],
            "image/png": "[encoded data removed]"
          },
          "metadata": {
            "needs_background": "light"
          }
        },
        {
          "output_type": "stream",
          "name": "stdout",
          "text": [
            "For iterations 150 Target-Poison Loss is 0.25844547152519226\n",
            "For iterations 150 Poison accuracy is 0.37866666666666665\n"
          ]
        },
        {
          "output_type": "display_data",
          "data": {
            "text/plain": [
              "<Figure size 432x288 with 1 Axes>"
            ],
            "image/png": "[encoded data removed]"
          },
          "metadata": {
            "needs_background": "light"
          }
        },
        {
          "output_type": "display_data",
          "data": {
            "text/plain": [
              "<Figure size 432x288 with 1 Axes>"
            ],
            "image/png": "[encoded data removed]"
          },
          "metadata": {
            "needs_background": "light"
          }
        },
        {
          "output_type": "stream",
          "name": "stdout",
          "text": [
            "For iterations 200 Target-Poison Loss is 0.25374552607536316\n",
            "For iterations 200 Poison accuracy is 0.39466666666666667\n"
          ]
        },
        {
          "output_type": "display_data",
          "data": {
            "text/plain": [
              "<Figure size 432x288 with 1 Axes>"
            ],
            "image/png": "[encoded data removed]"
          },
          "metadata": {
            "needs_background": "light"
          }
        },
        {
          "output_type": "display_data",
          "data": {
            "text/plain": [
              "<Figure size 432x288 with 1 Axes>"
            ],
            "image/png": "[encoded data removed]"
          },
          "metadata": {
            "needs_background": "light"
          }
        },
        {
          "output_type": "stream",
          "name": "stdout",
          "text": [
            "For iterations 250 Target-Poison Loss is 0.2505421042442322\n",
            "For iterations 250 Poison accuracy is 0.4106666666666667\n",
            "Trial #1:\n"
          ]
        },
        {
          "output_type": "display_data",
          "data": {
            "text/plain": [
              "<Figure size 432x288 with 1 Axes>"
            ],
            "image/png": "[encoded data removed]"
          },
          "metadata": {
            "needs_background": "light"
          }
        },
        {
          "output_type": "stream",
          "name": "stderr",
          "text": [
            "WARNING:matplotlib.image:Clipping input data to the valid range for imshow with RGB data ([0..1] for floats or [0..255] for integers).\n"
          ]
        },
        {
          "output_type": "display_data",
          "data": {
            "text/plain": [
              "<Figure size 432x288 with 1 Axes>"
            ],
            "image/png": "[encoded data removed]"
          },
          "metadata": {
            "needs_background": "light"
          }
        },
        {
          "output_type": "stream",
          "name": "stdout",
          "text": [
            "For iterations 0 Target-Poison Loss is 0.6799764633178711\n",
            "For iterations 0 Poison accuracy is 0.896\n"
          ]
        },
        {
          "output_type": "display_data",
          "data": {
            "text/plain": [
              "<Figure size 432x288 with 1 Axes>"
            ],
            "image/png": "[encoded data removed]"
          },
          "metadata": {
            "needs_background": "light"
          }
        },
        {
          "output_type": "stream",
          "name": "stderr",
          "text": [
            "WARNING:matplotlib.image:Clipping input data to the valid range for imshow with RGB data ([0..1] for floats or [0..255] for integers).\n"
          ]
        },
        {
          "output_type": "display_data",
          "data": {
            "text/plain": [
              "<Figure size 432x288 with 1 Axes>"
            ],
            "image/png": "[encoded data removed]"
          },
          "metadata": {
            "needs_background": "light"
          }
        },
        {
          "output_type": "stream",
          "name": "stdout",
          "text": [
            "For iterations 50 Target-Poison Loss is 0.2989921569824219\n",
            "For iterations 50 Poison accuracy is 0.308\n"
          ]
        },
        {
          "output_type": "display_data",
          "data": {
            "text/plain": [
              "<Figure size 432x288 with 1 Axes>"
            ],
            "image/png": "[encoded data removed]"
          },
          "metadata": {
            "needs_background": "light"
          }
        },
        {
          "output_type": "stream",
          "name": "stderr",
          "text": [
            "WARNING:matplotlib.image:Clipping input data to the valid range for imshow with RGB data ([0..1] for floats or [0..255] for integers).\n"
          ]
        },
        {
          "output_type": "display_data",
          "data": {
            "text/plain": [
              "<Figure size 432x288 with 1 Axes>"
            ],
            "image/png": "[encoded data removed]"
          },
          "metadata": {
            "needs_background": "light"
          }
        },
        {
          "output_type": "stream",
          "name": "stdout",
          "text": [
            "For iterations 100 Target-Poison Loss is 0.2680967152118683\n",
            "For iterations 100 Poison accuracy is 0.33866666666666667\n"
          ]
        },
        {
          "output_type": "display_data",
          "data": {
            "text/plain": [
              "<Figure size 432x288 with 1 Axes>"
            ],
            "image/png": "[encoded data removed]"
          },
          "metadata": {
            "needs_background": "light"
          }
        },
        {
          "output_type": "stream",
          "name": "stderr",
          "text": [
            "WARNING:matplotlib.image:Clipping input data to the valid range for imshow with RGB data ([0..1] for floats or [0..255] for integers).\n"
          ]
        },
        {
          "output_type": "display_data",
          "data": {
            "text/plain": [
              "<Figure size 432x288 with 1 Axes>"
            ],
            "image/png": "[encoded data removed]"
          },
          "metadata": {
            "needs_background": "light"
          }
        },
        {
          "output_type": "stream",
          "name": "stdout",
          "text": [
            "For iterations 150 Target-Poison Loss is 0.25857722759246826\n",
            "For iterations 150 Poison accuracy is 0.35733333333333334\n"
          ]
        },
        {
          "output_type": "display_data",
          "data": {
            "text/plain": [
              "<Figure size 432x288 with 1 Axes>"
            ],
            "image/png": "[encoded data removed]"
          },
          "metadata": {
            "needs_background": "light"
          }
        },
        {
          "output_type": "stream",
          "name": "stderr",
          "text": [
            "WARNING:matplotlib.image:Clipping input data to the valid range for imshow with RGB data ([0..1] for floats or [0..255] for integers).\n"
          ]
        },
        {
          "output_type": "display_data",
          "data": {
            "text/plain": [
              "<Figure size 432x288 with 1 Axes>"
            ],
            "image/png": "[encoded data removed]"
          },
          "metadata": {
            "needs_background": "light"
          }
        },
        {
          "output_type": "stream",
          "name": "stdout",
          "text": [
            "For iterations 200 Target-Poison Loss is 0.253791868686676\n",
            "For iterations 200 Poison accuracy is 0.37333333333333335\n"
          ]
        },
        {
          "output_type": "display_data",
          "data": {
            "text/plain": [
              "<Figure size 432x288 with 1 Axes>"
            ],
            "image/png": "[encoded data removed]"
          },
          "metadata": {
            "needs_background": "light"
          }
        },
        {
          "output_type": "stream",
          "name": "stderr",
          "text": [
            "WARNING:matplotlib.image:Clipping input data to the valid range for imshow with RGB data ([0..1] for floats or [0..255] for integers).\n"
          ]
        },
        {
          "output_type": "display_data",
          "data": {
            "text/plain": [
              "<Figure size 432x288 with 1 Axes>"
            ],
            "image/png": "[encoded data removed]"
          },
          "metadata": {
            "needs_background": "light"
          }
        },
        {
          "output_type": "stream",
          "name": "stdout",
          "text": [
            "For iterations 250 Target-Poison Loss is 0.2514229714870453\n",
            "For iterations 250 Poison accuracy is 0.38133333333333336\n",
            "Trial #0 selected with target loss 1\n",
            "--- 1353.315506219864 seconds ---\n"
          ]
        }
      ],
      "source": [
        "# Brew Poisons \n",
        "start_time = time.time()\n",
        "\n",
        "poison_deltas = []\n",
        "minimum_loss = 1\n",
        "minimum_loss_trial = 0\n",
        "\n",
        "for trial in range(R):\n",
        "  init_lr = 0.1\n",
        "  print(\"Trial #{}:\".format(trial))\n",
        "\n",
        "  poison_delta = torch.randn(len(poison_index), *trainset[0][0].shape)\n",
        "  poison_delta *= epsilon / std_tensor / 255\n",
        "  poison_delta.data = torch.max(torch.min(poison_delta, epsilon / (std_tensor * 255)), -epsilon / (std_tensor * 255))\n",
        "\n",
        "  att_optimizer = torch.optim.Adam([poison_delta], lr=init_lr)\n",
        "\n",
        "  poison_delta.grad = torch.zeros_like(poison_delta)\n",
        "  poison_delta.requires_grad_()\n",
        "\n",
        "  poison_bounds = torch.zeros_like(poison_delta)\n",
        "  for iter in range(attackiter):\n",
        "\n",
        "      target_loss = 0\n",
        "      poison_correct = 0\n",
        "      for batch, example in enumerate(poisonloader):\n",
        "\n",
        "        inputs, labels, ids = example\n",
        "\n",
        "        inputs = inputs.to(device)\n",
        "        labels = labels.to(device)\n",
        "        if iter % 50 == 0 and batch == 0:\n",
        "          plt.imshow(inv_normalize(inputs[0]).permute(1, 2, 0).cpu().detach().numpy())\n",
        "          plt.show()\n",
        "\n",
        "        ### Add delta to the correct images\n",
        "\n",
        "        poison_slices, batch_positions = [], []\n",
        "        for batch_id, image_id in enumerate(ids.tolist()):\n",
        "            lookup = poison_dict.get(image_id)\n",
        "            if lookup is not None:\n",
        "                poison_slices.append(lookup)\n",
        "                batch_positions.append(batch_id)\n",
        "\n",
        "        if len(batch_positions) > 0:\n",
        "            delta_slice = poison_delta[poison_slices].detach().to(device)\n",
        "            delta_slice.requires_grad_()\n",
        "            poison_images = inputs[batch_positions]\n",
        "            inputs[batch_positions] += delta_slice\n",
        "        if iter % 50 == 0 and batch == 0:\n",
        "          plt.imshow(inv_normalize(inputs[0]).permute(1, 2, 0).cpu().detach().numpy())\n",
        "          plt.show()\n",
        "\n",
        "###################################################################################\n",
        "        loss, p_correct = compute_loss(inputs, labels, support_data)\n",
        "###################################################################################\n",
        "\n",
        "        # Update Step:\n",
        "        poison_delta.grad[poison_slices] = delta_slice.grad.detach().to(device=torch.device('cpu'))\n",
        "        poison_bounds[poison_slices] = poison_images.detach().to(device=torch.device('cpu'))\n",
        "        #for i in range(budget):\n",
        "      \n",
        "        #  poison_bounds[i] = poison_delta[i]\n",
        "        #print(poison_delta.grad)\n",
        "\n",
        "        target_loss += loss\n",
        "        poison_correct += p_correct\n",
        "\n",
        "      if iter % 50 == 0:\n",
        "        print(\"For iterations {} Target-Poison Loss is {}\".format(iter, target_loss/(batch + 1)))\n",
        "        print(\"For iterations {} Poison accuracy is {}\".format(iter, poison_correct / budget))\n",
        "\n",
        "      #poison_delta.grad.sign_()\n",
        "      att_optimizer.step()\n",
        "      att_optimizer.zero_grad()\n",
        "  \n",
        "      with torch.no_grad():\n",
        "        #Projection Step \n",
        "\n",
        "        poison_delta.data = torch.max(torch.min(poison_delta, epsilon / std_tensor / 255), -epsilon / std_tensor / 255)\n",
        "        poison_delta.data = torch.max(torch.min(poison_delta, (1 - mean_tensor) / std_tensor - poison_bounds), -mean_tensor / std_tensor - poison_bounds)\n",
        "\n",
        "      if iter == attackiter - 1:\n",
        "        poison_deltas.append(poison_delta)\n",
        "        if target_loss < minimum_loss: \n",
        "          minimum_loss = target_loss/(batch + 1)\n",
        "          minimum_loss_trial = trial\n",
        "\n",
        "poison_delta = poison_deltas[minimum_loss_trial]\n",
        "\n",
        "print(\"Trial #{} selected with target loss {}\".format(minimum_loss_trial, minimum_loss))       \n",
        "print(\"--- %s seconds ---\" % (time.time() - start_time))\n"
      ]
    },
    {
      "cell_type": "code",
      "execution_count": null,
      "metadata": {
        "id": "E6MQ1IFa7rn5"
      },
      "outputs": [],
      "source": [
        "import os\n",
        "PATH = \"./drive/MyDrive/Poisoning_Machine_Unlearning/model\"\n",
        "os.makedirs(PATH, exist_ok = True) \n",
        "PATH += \"/poison_cifar_l2dcharts.npy\"\n",
        "\n",
        "with open(PATH, 'wb') as f:\n",
        "  np.save(f, poison_delta.detach().numpy())\n",
        "\n",
        "#with open(PATH, 'rb') as f:\n",
        "#  poison_delta = np.load(f)\n",
        "#poison_delta = torch.from_numpy(poison_delta)"
      ]
    },
    {
      "cell_type": "code",
      "execution_count": null,
      "metadata": {
        "id": "mlrhMbWEA7DW",
        "colab": {
          "base_uri": "https://localhost:8080/",
          "height": 89
        },
        "outputId": "20c41e3f-4f9c-42d1-e872-00ff5707c6af"
      },
      "outputs": [
        {
          "output_type": "execute_result",
          "data": {
            "text/plain": [
              "'\\nfor batch, example in enumerate(poisonloader):\\n        inputs, labels, ids = example\\n\\n        inputs = inputs.to(device)\\n        labels = labels.to(torch.float32).to(device)\\n\\n        poison_order = []\\n        batch_ids = []\\n\\n        # Use poison_dict to match poison_delta[i] to the correct poison image:\\n        for batch_id, image_id in enumerate(ids.tolist()):\\n            batch_ids.append(batch_id)\\n            poison_order.append(poison_dict[image_id])\\n    \\n        delta_slice = poison_delta[poison_order].detach().to(device)\\n        delta_slice.requires_grad_()\\n        #poison_images = inputs[batch_ids]\\n\\n        for input in inputs:\\n          print(\"Original images:\")\\n          plt.imshow(inv_normalize(input).permute(1, 2, 0).cpu().detach().numpy())\\n          plt.show()\\n        inputs[batch_ids] += delta_slice.to(device)\\n        for input in inputs:\\n          print(\"Poisoned Images:\")\\n          plt.imshow(inv_normalize(input).permute(1, 2, 0).cpu().detach().numpy())\\n          plt.show()\\n\\n        if batch == 10:\\n          break\\n'"
            ],
            "application/vnd.google.colaboratory.intrinsic+json": {
              "type": "string"
            }
          },
          "metadata": {},
          "execution_count": 36
        }
      ],
      "source": [
        "#Examning Poison images\n",
        "\n",
        "'''\n",
        "for batch, example in enumerate(poisonloader):\n",
        "        inputs, labels, ids = example\n",
        "\n",
        "        inputs = inputs.to(device)\n",
        "        labels = labels.to(torch.float32).to(device)\n",
        "\n",
        "        poison_order = []\n",
        "        batch_ids = []\n",
        "\n",
        "        # Use poison_dict to match poison_delta[i] to the correct poison image:\n",
        "        for batch_id, image_id in enumerate(ids.tolist()):\n",
        "            batch_ids.append(batch_id)\n",
        "            poison_order.append(poison_dict[image_id])\n",
        "    \n",
        "        delta_slice = poison_delta[poison_order].detach().to(device)\n",
        "        delta_slice.requires_grad_()\n",
        "        #poison_images = inputs[batch_ids]\n",
        "\n",
        "        for input in inputs:\n",
        "          print(\"Original images:\")\n",
        "          plt.imshow(inv_normalize(input).permute(1, 2, 0).cpu().detach().numpy())\n",
        "          plt.show()\n",
        "        inputs[batch_ids] += delta_slice.to(device)\n",
        "        for input in inputs:\n",
        "          print(\"Poisoned Images:\")\n",
        "          plt.imshow(inv_normalize(input).permute(1, 2, 0).cpu().detach().numpy())\n",
        "          plt.show()\n",
        "\n",
        "        if batch == 10:\n",
        "          break\n",
        "'''"
      ]
    },
    {
      "cell_type": "code",
      "execution_count": null,
      "metadata": {
        "id": "ltCzcqtyinjP"
      },
      "outputs": [],
      "source": []
    },
    {
      "cell_type": "code",
      "execution_count": null,
      "metadata": {
        "id": "-qLYeR6j0MYW",
        "colab": {
          "base_uri": "https://localhost:8080/"
        },
        "outputId": "65ba2d46-ce42-4f1b-af31-bfad559ae9d3"
      },
      "outputs": [
        {
          "output_type": "stream",
          "name": "stdout",
          "text": [
            "Training Epoch 0: Loss: 1.4379737858772277, Accuracy: 0.47374\n",
            "tensor([[ 2.8540,  4.6681, -1.0184, -3.6659, -0.4193, -2.8850, -3.7337, -0.0282,\n",
            "          1.1547,  3.4937]], device='cuda:0')\n",
            "Target is not fooled.\n",
            "Validation Epoch 0: Valid loss: 1.1510226464271545, Accuracy: 0.5875\n",
            "Training Epoch 1: Loss: 0.9156233986616135, Accuracy: 0.67366\n",
            "Training Epoch 2: Loss: 0.6746201531291008, Accuracy: 0.76412\n",
            "Training Epoch 3: Loss: 0.5142146130800247, Accuracy: 0.82046\n",
            "Training Epoch 4: Loss: 0.39065420573949816, Accuracy: 0.8681\n",
            "Training Epoch 5: Loss: 0.28545466300845146, Accuracy: 0.90504\n",
            "Training Epoch 6: Loss: 0.20269146519899367, Accuracy: 0.93688\n",
            "Training Epoch 7: Loss: 0.14004767652601002, Accuracy: 0.9586\n",
            "Training Epoch 8: Loss: 0.0912689617536962, Accuracy: 0.97596\n",
            "Training Epoch 9: Loss: 0.05912564389780164, Accuracy: 0.98712\n",
            "Training Epoch 10: Loss: 0.040984404016286134, Accuracy: 0.9926\n",
            "tensor([[10.0822,  1.6426,  0.2923, -2.7002, -1.5127,  8.4592, -7.9624, -2.3640,\n",
            "         -1.0348, -2.5685]], device='cuda:0')\n",
            "Target is not fooled.\n",
            "Validation Epoch 10: Valid loss: 0.6331699451804161, Accuracy: 0.8146\n",
            "Training Epoch 11: Loss: 0.029155026081949472, Accuracy: 0.99598\n",
            "Training Epoch 12: Loss: 0.022596399347297846, Accuracy: 0.99754\n",
            "Training Epoch 13: Loss: 0.018871789352037014, Accuracy: 0.99828\n",
            "Training Epoch 14: Loss: 0.01569746008515358, Accuracy: 0.9991\n",
            "Training Epoch 15: Loss: 0.013847924487665296, Accuracy: 0.9995\n",
            "Training Epoch 16: Loss: 0.01321333412686363, Accuracy: 0.99928\n",
            "Training Epoch 17: Loss: 0.012489824900403618, Accuracy: 0.99946\n",
            "Training Epoch 18: Loss: 0.011572765110991895, Accuracy: 0.99974\n",
            "Training Epoch 19: Loss: 0.01143172083888203, Accuracy: 0.99976\n",
            "Training Epoch 20: Loss: 0.011510790603235364, Accuracy: 0.99968\n",
            "tensor([[10.6704,  1.1494,  0.3796, -3.0366, -1.9062, 10.0909, -8.4619, -1.6645,\n",
            "         -1.9992, -2.8698]], device='cuda:0')\n",
            "Target is not fooled.\n",
            "Validation Epoch 20: Valid loss: 0.6665670701861381, Accuracy: 0.8206\n",
            "Training Epoch 21: Loss: 0.011042893842794001, Accuracy: 0.99978\n",
            "Training Epoch 22: Loss: 0.01108462756453082, Accuracy: 0.99972\n",
            "Training Epoch 23: Loss: 0.010676849586889147, Accuracy: 0.99974\n",
            "Training Epoch 24: Loss: 0.010574697061441839, Accuracy: 0.99982\n",
            "Training Epoch 25: Loss: 0.0106813622424379, Accuracy: 0.9998\n",
            "Training Epoch 26: Loss: 0.010218079105950892, Accuracy: 0.99976\n",
            "Training Epoch 27: Loss: 0.010774832802824676, Accuracy: 0.99974\n",
            "Training Epoch 28: Loss: 0.010361646147910505, Accuracy: 0.99984\n",
            "Training Epoch 29: Loss: 0.010594642055686563, Accuracy: 0.99972\n",
            "Training Epoch 30: Loss: 0.010111076034605503, Accuracy: 0.99982\n",
            "tensor([[10.5378,  1.4628,  0.3629, -3.2153, -2.1706,  9.9258, -8.1995, -1.9262,\n",
            "         -1.6423, -2.7947]], device='cuda:0')\n",
            "Target is not fooled.\n",
            "Validation Epoch 30: Valid loss: 0.6712350639700889, Accuracy: 0.8205\n",
            "Training Epoch 31: Loss: 0.010157146278768778, Accuracy: 0.9998\n",
            "Training Epoch 32: Loss: 0.01037187181552872, Accuracy: 0.9997\n",
            "Training Epoch 33: Loss: 0.009750304854474963, Accuracy: 0.9999\n",
            "Training Epoch 34: Loss: 0.01015757388388738, Accuracy: 0.9998\n",
            "Training Epoch 35: Loss: 0.010345949960872531, Accuracy: 0.99982\n",
            "Training Epoch 36: Loss: 0.010380084287840872, Accuracy: 0.99988\n",
            "Training Epoch 37: Loss: 0.009899967346340417, Accuracy: 0.99992\n",
            "Training Epoch 38: Loss: 0.009885473421774805, Accuracy: 0.9998\n",
            "Training Epoch 39: Loss: 0.010085834246128798, Accuracy: 0.99986\n",
            "Training Epoch 40: Loss: 0.010350263074040413, Accuracy: 0.99974\n",
            "tensor([[10.6598,  1.4755,  0.1149, -3.0993, -2.0612, 10.0048, -8.3326, -1.7214,\n",
            "         -1.7916, -2.8876]], device='cuda:0')\n",
            "Target is not fooled.\n",
            "Validation Epoch 40: Valid loss: 0.6721224987506866, Accuracy: 0.8199\n"
          ]
        }
      ],
      "source": [
        "# Retraining 1:\n",
        "if MODEL == 'VGG11':\n",
        "  vgg11_layers = get_vgg_layers(vgg11_config, batch_norm=True)\n",
        "  model2 = VGG(vgg11_layers, output_dim=10)\n",
        "elif MODEL == 'RESNET18':\n",
        "  model2 = ResNet(torchvision.models.resnet.BasicBlock, [2, 2, 2, 2], num_classes=NUM_CLASS, base_width=64, initial_conv=initial_conv)\n",
        "\n",
        "\n",
        "#model2 = ResNet(torchvision.models.resnet.BasicBlock, [2, 2, 2, 2], num_classes=NUM_CLASS, base_width=64, initial_conv=initial_conv)\n",
        "model2 = model2.to(device)\n",
        "optimizer = torch.optim.SGD(params = model2.parameters(), lr = eta, weight_decay = 5e-4, momentum=0.9)\n",
        "scheduler = torch.optim.lr_scheduler.ExponentialLR(optimizer, gamma=0.8)\n",
        "\n",
        "optimizer.zero_grad()\n",
        "\n",
        "for epoch in range(epochs):\n",
        "  \n",
        "  train_loss = []\n",
        "\n",
        "  correct_preds = 0\n",
        "  total_preds = 0\n",
        "  for inputs, labels, index in trainloader:\n",
        "    model2.train()\n",
        "    inputs, labels = inputs.to(device), labels.to(device)\n",
        "    optimizer.zero_grad()            # reset the gradients to zero\n",
        "    picture_id = []\n",
        "    poison_order = []\n",
        "\n",
        "    # Use poison_dict to match poison_delta[i] to the correct poison image:\n",
        "    for order, id in enumerate(index.tolist()):\n",
        "      if poison_dict.get(id) is not None:\n",
        "        picture_id.append(order)\n",
        "        poison_order.append(poison_dict[id])\n",
        "        #print(\"{} ({}) : {}\".format(id, order, poison_dict[id])) # Check matching\n",
        "\n",
        "    if len(poison_order) > 0:\n",
        "      inputs[picture_id] += poison_delta[poison_order].to(device)\n",
        "    \n",
        "    if AUGMENTS:\n",
        "      inputs = aug_transform(inputs)\n",
        "\n",
        "    \n",
        "    output = model2(inputs)            # Generate model outputs\n",
        "    #labels = labels.to(torch.float32).unsqueeze(1)\n",
        "    \n",
        "    if DATASET == 'CIFAR2':\n",
        "      labels = labels.to(torch.float32)\n",
        "      output = output.flatten()\n",
        "\n",
        "    loss = loss_fun(output, labels)   # Calculate loss\n",
        "\n",
        "    loss.backward()            # Compute gradients\n",
        "    optimizer.step()            # update parameters,\n",
        "\n",
        "    if DATASET == 'CIFAR2':\n",
        "      predictions = torch.where(output < 0, 0, 1)\n",
        "    else:\n",
        "      predictions = torch.argmax(output.data, dim=1)\n",
        "\n",
        "    total_preds += labels.size(0)\n",
        "    correct_preds += (predictions == labels).sum().item()\n",
        "\n",
        "    train_loss.append(loss.item())\n",
        "\n",
        "  print(\"Training Epoch {}: Loss: {}, Accuracy: {}\".format(epoch, np.mean(train_loss), correct_preds / total_preds))\n",
        "  # validation phase - once every 10 epochs\n",
        "      \n",
        "  if epoch % 10 == 0:\n",
        "    model2.eval()\n",
        "    valid_losses = []\n",
        "    correct = 0\n",
        "    total = 0\n",
        "    \n",
        "    for inputs, labels, index in targetloader:\n",
        "      inputs, labels = inputs.to(device), labels.to(device)\n",
        "      with torch.no_grad():\n",
        "        output = model2(inputs)\n",
        "        if DATASET == 'CIFAR2':\n",
        "          labels = labels.to(torch.float32)\n",
        "          output = output.flatten()\n",
        "        if DATASET == 'CIFAR2':\n",
        "          predictions = torch.where(output < 0, 0, 1)\n",
        "        else:\n",
        "          predictions = torch.argmax(output.data, dim=1)\n",
        "        print(output)\n",
        "      \n",
        "      if predictions[0] != intended_classes[0]:\n",
        "        print(\"Target is not fooled.\")\n",
        "      else:\n",
        "        print(\"Target is fooled.\")\n",
        "\n",
        "    for inputs, labels, index in testloader:\n",
        "      #\n",
        "      inputs, labels = inputs.to(device), labels.to(device)\n",
        "      with torch.no_grad():\n",
        "        output = model2(inputs)\n",
        "        if DATASET == 'CIFAR2':\n",
        "          labels = labels.to(torch.float32)\n",
        "          output = output.flatten()\n",
        "\n",
        "        valid_loss = loss_fun(output, labels) # Calculate loss\n",
        "        valid_losses.append(valid_loss.item())\n",
        "\n",
        "        if DATASET == 'CIFAR2':\n",
        "          predictions = torch.where(output < 0, 0, 1)\n",
        "        else:\n",
        "          predictions = torch.argmax(output.data, dim=1)\n",
        "        total += labels.size(0)\n",
        "        correct += (predictions == labels).sum().item()\n",
        "\n",
        "    print(\"Validation Epoch {}: Valid loss: {}, Accuracy: {}\".format(epoch, np.mean(valid_losses), correct / total))\n",
        "  scheduler.step()"
      ]
    },
    {
      "cell_type": "code",
      "execution_count": null,
      "metadata": {
        "id": "2WH5qDc8lEf2"
      },
      "outputs": [],
      "source": []
    },
    {
      "cell_type": "code",
      "execution_count": null,
      "metadata": {
        "id": "cRCwI-Wd-jp_"
      },
      "outputs": [],
      "source": [
        "# Camou set:\n",
        "\n",
        "camou_index = np.random.choice(camou_index, camou_budget, replace=False)\n",
        "camou_dict = {}\n",
        "\n",
        "for index, val in enumerate(camou_index):\n",
        "  camou_dict[val] = index\n",
        "\n",
        "camouset = data.Subset(trainset, camou_index)\n"
      ]
    },
    {
      "cell_type": "code",
      "execution_count": null,
      "metadata": {
        "id": "b9z_CkxvnG8h",
        "colab": {
          "base_uri": "https://localhost:8080/"
        },
        "outputId": "fc55e60d-5b0f-404a-ccc2-b1f79c87edb5"
      },
      "outputs": [
        {
          "output_type": "stream",
          "name": "stdout",
          "text": [
            "50000\n"
          ]
        }
      ],
      "source": [
        "print(len(trainset))\n",
        "camouloader = DataLoader(camouset, batch_size=128, drop_last=False)\n",
        "combinedloader = DataLoader(trainset,shuffle=True,batch_size=100)"
      ]
    },
    {
      "cell_type": "code",
      "execution_count": null,
      "metadata": {
        "id": "XvYiGcRyuJiU",
        "colab": {
          "base_uri": "https://localhost:8080/"
        },
        "outputId": "d9705c10-296d-4f7d-c58b-9d4851225efb"
      },
      "outputs": [
        {
          "output_type": "stream",
          "name": "stdout",
          "text": [
            "tensor(0.0671, device='cuda:0')\n"
          ]
        }
      ],
      "source": [
        "target_grad, target_grad_norm = gradient(model, targets, true_classes)\n",
        "\n",
        "print(target_grad_norm)\n",
        "\n"
      ]
    },
    {
      "cell_type": "code",
      "execution_count": null,
      "metadata": {
        "id": "boTSfnLghhH9",
        "colab": {
          "base_uri": "https://localhost:8080/",
          "height": 1000
        },
        "outputId": "049dc061-019f-4231-fb12-6cc73661eb5c"
      },
      "outputs": [
        {
          "output_type": "stream",
          "name": "stdout",
          "text": [
            "Trial #0:\n"
          ]
        },
        {
          "output_type": "display_data",
          "data": {
            "text/plain": [
              "<Figure size 432x288 with 1 Axes>"
            ],
            "image/png": "[encoded data removed]"
          },
          "metadata": {
            "needs_background": "light"
          }
        },
        {
          "output_type": "stream",
          "name": "stderr",
          "text": [
            "WARNING:matplotlib.image:Clipping input data to the valid range for imshow with RGB data ([0..1] for floats or [0..255] for integers).\n"
          ]
        },
        {
          "output_type": "display_data",
          "data": {
            "text/plain": [
              "<Figure size 432x288 with 1 Axes>"
            ],
            "image/png": "[encoded data removed]"
          },
          "metadata": {
            "needs_background": "light"
          }
        },
        {
          "output_type": "stream",
          "name": "stdout",
          "text": [
            "For iterations 0 Target-Camou Loss is 0.4747128188610077\n",
            "For iterations 0 Camou accuracy is 0.6293333333333333\n"
          ]
        },
        {
          "output_type": "display_data",
          "data": {
            "text/plain": [
              "<Figure size 432x288 with 1 Axes>"
            ],
            "image/png": "[encoded data removed]"
          },
          "metadata": {
            "needs_background": "light"
          }
        },
        {
          "output_type": "stream",
          "name": "stderr",
          "text": [
            "WARNING:matplotlib.image:Clipping input data to the valid range for imshow with RGB data ([0..1] for floats or [0..255] for integers).\n"
          ]
        },
        {
          "output_type": "display_data",
          "data": {
            "text/plain": [
              "<Figure size 432x288 with 1 Axes>"
            ],
            "image/png": "[encoded data removed]"
          },
          "metadata": {
            "needs_background": "light"
          }
        },
        {
          "output_type": "stream",
          "name": "stdout",
          "text": [
            "For iterations 50 Target-Camou Loss is 0.24408596754074097\n",
            "For iterations 50 Camou accuracy is 0.46266666666666667\n"
          ]
        }
      ],
      "source": [
        "# Brew Camou Images:\n",
        "start_time = time.time()\n",
        "\n",
        "camou_deltas = []\n",
        "minimum_loss = 1\n",
        "minimum_loss_trial = 0\n",
        "\n",
        "for trial in range(R):\n",
        "  init_lr = 0.1\n",
        "  if trial > -(R // -2):\n",
        "    init_lr = 0.01\n",
        "\n",
        "  print(\"Trial #{}:\".format(trial))\n",
        "\n",
        "  camou_delta = torch.randn(len(camou_index), *trainset[0][0].shape)\n",
        "  camou_delta *= epsilon / std_tensor / 255\n",
        "  camou_delta.data = torch.max(torch.min(camou_delta, epsilon / (std_tensor * 255)), -epsilon / (std_tensor * 255))\n",
        "\n",
        "  att_optimizer = torch.optim.Adam([camou_delta], lr=init_lr)\n",
        "\n",
        "  camou_delta.grad = torch.zeros_like(camou_delta)\n",
        "  camou_delta.requires_grad_()\n",
        "\n",
        "  camou_bounds = torch.zeros_like(camou_delta)\n",
        "  for iter in range(attackiter):\n",
        "\n",
        "      target_loss = 0\n",
        "      camou_correct = 0\n",
        "      for batch, example in enumerate(camouloader):\n",
        "\n",
        "        inputs, labels, ids = example\n",
        "\n",
        "        inputs = inputs.to(device)\n",
        "        labels = labels.to(device)\n",
        "\n",
        "        if DATASET == 'CIFAR2':\n",
        "          labels = labels.to(torch.float32)\n",
        "\n",
        "        if iter % 50 == 0 and batch == 0:\n",
        "          plt.imshow(inv_normalize(inputs[0]).permute(1, 2, 0).cpu().detach().numpy())\n",
        "          plt.show()\n",
        "\n",
        "        ### Add delta to the correct images\n",
        "\n",
        "        camou_slices, batch_positions = [], []\n",
        "        for batch_id, image_id in enumerate(ids.tolist()):\n",
        "            lookup = camou_dict.get(image_id)\n",
        "            if lookup is not None:\n",
        "                camou_slices.append(lookup)\n",
        "                batch_positions.append(batch_id)\n",
        "\n",
        "        if len(batch_positions) > 0:\n",
        "            delta_slice = camou_delta[camou_slices].detach().to(device)\n",
        "            delta_slice.requires_grad_()\n",
        "            camou_images = inputs[batch_positions]\n",
        "            inputs[batch_positions] += delta_slice\n",
        "        if iter % 50 == 0 and batch == 0:\n",
        "          plt.imshow(inv_normalize(inputs[0]).permute(1, 2, 0).cpu().detach().numpy())\n",
        "          plt.show()\n",
        "\n",
        "###################################################################################\n",
        "        loss, p_correct = compute_loss(inputs, labels, support_data)\n",
        "###################################################################################\n",
        "\n",
        "        # Update Step:\n",
        "        camou_delta.grad[camou_slices] = delta_slice.grad.detach().to(device=torch.device('cpu'))\n",
        "        camou_bounds[camou_slices] = camou_images.detach().to(device=torch.device('cpu'))\n",
        "\n",
        "\n",
        "        target_loss += loss\n",
        "        camou_correct += p_correct\n",
        "\n",
        "      if iter % 50 == 0:\n",
        "        print(\"For iterations {} Target-Camou Loss is {}\".format(iter, target_loss/(batch + 1)))\n",
        "        print(\"For iterations {} Camou accuracy is {}\".format(iter, camou_correct / budget))\n",
        "\n",
        "      att_optimizer.step()\n",
        "      att_optimizer.zero_grad()\n",
        "  \n",
        "      with torch.no_grad():\n",
        "        camou_delta.data = torch.max(torch.min(camou_delta, epsilon / std_tensor / 255), -epsilon / std_tensor / 255)\n",
        "        camou_delta.data = torch.max(torch.min(camou_delta, (1 - mean_tensor) / std_tensor - camou_bounds), -mean_tensor / std_tensor - camou_bounds)\n",
        "\n",
        "  camou_deltas.append(camou_delta)\n",
        "  if target_loss < minimum_loss: \n",
        "    minimum_loss = target_loss\n",
        "    minimum_loss_trial = trial\n",
        "\n",
        "camou_delta = camou_deltas[minimum_loss_trial]\n",
        "\n",
        "print(\"--- %s seconds ---\" % (time.time() - start_time))"
      ]
    },
    {
      "cell_type": "code",
      "execution_count": null,
      "metadata": {
        "id": "2F0B2UJq7zvp"
      },
      "outputs": [],
      "source": [
        "import os\n",
        "PATH = \"./drive/MyDrive/Poisoning_Machine_Unlearning/model\"\n",
        "os.makedirs(PATH, exist_ok = True) \n",
        "PATH += \"/camou_cifar_l2dcharts.npy\"\n",
        "\n",
        "with open(PATH, 'wb') as f:\n",
        "  np.save(f, camou_delta.detach().numpy())\n",
        "\n",
        "#with open(PATH, 'rb') as f:\n",
        "#  camou_delta = np.load(f)\n",
        "#camou_delta = torch.from_numpy(camou_delta)"
      ]
    },
    {
      "cell_type": "code",
      "execution_count": null,
      "metadata": {
        "id": "Cx1u0z0D0oAC"
      },
      "outputs": [],
      "source": [
        "print(len(poisonset))"
      ]
    },
    {
      "cell_type": "code",
      "execution_count": null,
      "metadata": {
        "id": "era7kwYNheI9"
      },
      "outputs": [],
      "source": [
        "'''\n",
        "for batch, example in enumerate(camouloader):\n",
        "        inputs, labels, ids = example\n",
        "\n",
        "        inputs = inputs.to(device)\n",
        "        labels = labels.to(device)\n",
        "\n",
        "        if DATASET == 'CIFAR2':\n",
        "          labels = labels.to(torch.float32)\n",
        "          \n",
        "        camou_order = []\n",
        "        batch_ids = []\n",
        "\n",
        "        # Use poison_dict to match poison_delta[i] to the correct poison image:\n",
        "        for batch_id, image_id in enumerate(ids.tolist()):\n",
        "            batch_ids.append(batch_id)\n",
        "            camou_order.append(camou_dict[image_id])\n",
        "    \n",
        "        delta_slice = camou_delta[camou_order].detach().to(device)\n",
        "        delta_slice.requires_grad_()\n",
        "        #poison_images = inputs[batch_ids]\n",
        "\n",
        "        inputs[batch_ids] += delta_slice.to(device)\n",
        "        for input in inputs:\n",
        "          print(\"Poisoned Images:\")\n",
        "          plt.imshow(inv_normalize(input).permute(1, 2, 0).cpu().detach().numpy())\n",
        "          plt.show()\n",
        "\n",
        "        if batch == 10:\n",
        "          break\n",
        "'''"
      ]
    },
    {
      "cell_type": "code",
      "execution_count": null,
      "metadata": {
        "id": "nH1yCNRg5_v6"
      },
      "outputs": [],
      "source": [
        "# Retraining # 2 with camouflage images:\n",
        "vgg11_layers = get_vgg_layers(vgg11_config, batch_norm=True)\n",
        "\n",
        "if MODEL == 'VGG11':\n",
        "  model2 = VGG(vgg11_layers, output_dim=10)\n",
        "elif MODEL == 'RESNET18':\n",
        "  model2 = ResNet(torchvision.models.resnet.BasicBlock, [2, 2, 2, 2], num_classes=NUM_CLASS, base_width=64, initial_conv=initial_conv)\n",
        "\n",
        "#model2 = ResNet(torchvision.models.resnet.BasicBlock, [2, 2, 2, 2], num_classes=NUM_CLASS, base_width=64, initial_conv=initial_conv)\n",
        "model2 = model2.to(device)\n",
        "optimizer = torch.optim.SGD(params = model2.parameters(), lr = eta, weight_decay = 5e-4, momentum=0.9)\n",
        "scheduler = torch.optim.lr_scheduler.ExponentialLR(optimizer, gamma=0.8)\n",
        "optimizer.zero_grad()\n",
        "\n",
        "for epoch in range(epochs):\n",
        "  \n",
        "  if epoch == 11:\n",
        "    optimizer = torch.optim.SGD(params = model2.parameters(), lr = eta/10, weight_decay = 5e-4, momentum=0.9)\n",
        "  if epoch == 20:\n",
        "    optimizer = torch.optim.SGD(params = model2.parameters(), lr = eta/100, weight_decay = 5e-4, momentum=0.9)\n",
        "    \n",
        "  train_loss = []\n",
        "\n",
        "  correct_preds = 0\n",
        "  total_preds = 0\n",
        "  for inputs, labels, index in combinedloader:\n",
        "    model2.train()\n",
        "    #\n",
        "    inputs, labels = inputs.to(device), labels.to(device)\n",
        "    optimizer.zero_grad()            # reset the gradients to zero\n",
        "\n",
        "    picture_id = []\n",
        "    poison_order = []\n",
        "\n",
        "    picture_cid = []\n",
        "    camou_order = []\n",
        "\n",
        "    for order, id in enumerate(index.tolist()):\n",
        "      if poison_dict.get(id) is not None:\n",
        "        picture_id.append(order)\n",
        "        poison_order.append(poison_dict[id])\n",
        "        \n",
        "    for order, id in enumerate(index.tolist()):\n",
        "      if camou_dict.get(id) is not None:\n",
        "        picture_cid.append(order)\n",
        "        camou_order.append(camou_dict[id])\n",
        "\n",
        "    if len(camou_order) > 0:\n",
        "      inputs[picture_cid] += camou_delta[camou_order].to(device)\n",
        "\n",
        "    if len(poison_order) > 0:\n",
        "      inputs[picture_id] += poison_delta[poison_order].to(device)\n",
        "    \n",
        "    if AUGMENTS:\n",
        "      inputs = aug_transform(inputs)\n",
        "    \n",
        "    output = model2(inputs)            # Generate model outputs\n",
        "    #labels = labels.to(torch.float32).unsqueeze(1)\n",
        "    if DATASET == 'CIFAR2':\n",
        "      labels = labels.to(torch.float32)\n",
        "      output = output.flatten()\n",
        "\n",
        "    # negative labels: when using hinge embedding loss only\n",
        "    flipped_labels = labels# * -1\n",
        "    loss = loss_fun(output, flipped_labels)   # Calculate loss\n",
        "\n",
        "    loss.backward()            # Compute gradients\n",
        "    optimizer.step()            # update parameters,\n",
        "\n",
        "    #predictions = torch.argmax(output, dim=1)\n",
        "    #trainset.classes = ['machine', 'animal']\n",
        "    \n",
        "    #predictions = torch.argmax(output.data, dim=1)\n",
        "    if DATASET == 'CIFAR2':\n",
        "      predictions = torch.where(output < 0, 0, 1)\n",
        "    else:\n",
        "      predictions = torch.argmax(output.data, dim=1)\n",
        "\n",
        "    total_preds += labels.size(0)\n",
        "    correct_preds += (predictions == labels).sum().item()\n",
        "\n",
        "    train_loss.append(loss.item())\n",
        "\n",
        "  print(\"Training Epoch {}: Loss: {}, Accuracy: {}\".format(epoch, np.mean(train_loss), correct_preds / total_preds))\n",
        "  # validation phase - once every 10 epochs\n",
        "      \n",
        "  if epoch % 10 == 0:\n",
        "    valid_losses = []\n",
        "    correct = 0\n",
        "    total = 0\n",
        "    model2.eval()\n",
        "    for inputs, labels, index in targetloader:\n",
        "      #\n",
        "      inputs, labels = inputs.to(device), labels.to(device)\n",
        "      with torch.no_grad():\n",
        "        output = model2(inputs)\n",
        "        if DATASET == 'CIFAR2':\n",
        "          labels = labels.to(torch.float32)\n",
        "          output = output.flatten()\n",
        "        #predictions = torch.argmax(output.data, dim=1)\n",
        "        if DATASET == 'CIFAR2':\n",
        "          predictions = torch.where(output < 0, 0, 1)\n",
        "        else:\n",
        "          predictions = torch.argmax(output.data, dim=1)\n",
        "        print(output)\n",
        "      \n",
        "      if predictions[0] != intended_classes[0]:\n",
        "        print(\"Target is not fooled.\")\n",
        "      else:\n",
        "        print(\"Target is fooled.\")\n",
        "\n",
        "    for inputs, labels, index in testloader:\n",
        "      #\n",
        "      inputs, labels = inputs.to(device), labels.to(device)\n",
        "      with torch.no_grad():\n",
        "        output = model2(inputs)\n",
        "        if DATASET == 'CIFAR2':\n",
        "          labels = labels.to(torch.float32)\n",
        "          output = output.flatten()\n",
        "        \n",
        "        valid_loss = loss_fun(output, labels) # Calculate loss\n",
        "        valid_losses.append(valid_loss.item())\n",
        "\n",
        "        #predictions = torch.argmax(output, dim=1)\n",
        "        if DATASET == 'CIFAR2':\n",
        "          predictions = torch.where(output < 0, 0, 1)\n",
        "        else:\n",
        "          predictions = torch.argmax(output.data, dim=1)\n",
        "        total += labels.size(0)\n",
        "        correct += (predictions == labels).sum().item()\n",
        "\n",
        "    print(\"Validation Epoch {}: Valid loss: {}, Accuracy: {}\".format(epoch, np.mean(valid_losses), correct / total))\n",
        "  scheduler.step()"
      ]
    },
    {
      "cell_type": "code",
      "execution_count": null,
      "metadata": {
        "id": "xFFi37RIavF_"
      },
      "outputs": [],
      "source": [
        "# Detach deltas to use in plots\n",
        "\n",
        "poison_detach = poison_delta.detach()\n",
        "camou_detach = camou_delta.detach()"
      ]
    },
    {
      "cell_type": "code",
      "execution_count": null,
      "metadata": {
        "id": "Mzh7kaoqPHFo"
      },
      "outputs": [],
      "source": [
        "# Plots and figures for papers\n",
        "'''\n",
        "fig = plt.figure(figsize=(5,3))\n",
        "plt.subplots_adjust(wspace=0, hspace=0, left=0, right=1, bottom=0, top=1)  \n",
        "# setting values to rows and column variables\n",
        "rows = 3\n",
        "columns = 5\n",
        "\n",
        "for i in range(3):\n",
        "  for j in range(1,6):\n",
        "    index = (i*5)+j-1\n",
        "    fig.add_subplot(rows, columns, i*5+j)\n",
        "    plt.imshow(inv_normalize(trainset[poison_index[index]][0]).permute(1, 2, 0)) \n",
        "    plt.axis('off')\n",
        "plt.savefig(f\"/content/drive/MyDrive/dummy_cifar_photogrid3.png\", bbox_inches='tight')\n",
        "\n",
        "\n",
        "fig = plt.figure(figsize=(5,3))\n",
        "  \n",
        "# setting values to rows and column variables\n",
        "rows = 3\n",
        "columns = 5\n",
        "\n",
        "plt.subplots_adjust(wspace=0, hspace=0, left=0, right=1, bottom=0, top=1)\n",
        "from google.colab import files\n",
        "#plt.tight_layout()\n",
        "\n",
        "\n",
        "for i in range(3):\n",
        "  for j in range(1,6):\n",
        "    index = (i*5)+j-1\n",
        "    poison_order = poison_index[index]\n",
        "    fig.add_subplot(rows, columns, i*5+j)\n",
        "    plt.imshow(inv_normalize(trainset[poison_order][0] + poison_detach[poison_dict[poison_order]]).permute(1, 2, 0))\n",
        "    plt.axis('off')\n",
        "plt.savefig(f\"/content/drive/MyDrive/dummy_cifar_photogrid4.png\", bbox_inches='tight')\n",
        "\n",
        "plt.subplots_adjust(wspace=0, hspace=0, left=0, right=1, bottom=0, top=1)\n",
        "'''"
      ]
    },
    {
      "cell_type": "code",
      "execution_count": null,
      "metadata": {
        "id": "VVNf-DP8bC68"
      },
      "outputs": [],
      "source": [
        "# Plots and figures for papers\n",
        "'''\n",
        "fig = plt.figure(figsize=(5,3))\n",
        "plt.subplots_adjust(wspace=0, hspace=0, left=0, right=1, bottom=0, top=1)  \n",
        "# setting values to rows and column variables\n",
        "rows = 3\n",
        "columns = 5\n",
        "\n",
        "for i in range(3):\n",
        "  for j in range(1,6):\n",
        "    index = (i*5)+j-1\n",
        "    fig.add_subplot(rows, columns, i*5+j)\n",
        "    plt.imshow(inv_normalize(trainset[camou_index[index]][0]).permute(1, 2, 0)) \n",
        "    plt.axis('off')\n",
        "plt.savefig(f\"/content/drive/MyDrive/dummy_cifar_photogrid3.png\", bbox_inches='tight')\n",
        "\n",
        "\n",
        "fig = plt.figure(figsize=(5,3))\n",
        "  \n",
        "# setting values to rows and column variables\n",
        "rows = 3\n",
        "columns = 5\n",
        "\n",
        "plt.subplots_adjust(wspace=0, hspace=0, left=0, right=1, bottom=0, top=1)\n",
        "from google.colab import files\n",
        "#plt.tight_layout()\n",
        "\n",
        "\n",
        "for i in range(3):\n",
        "  for j in range(1,6):\n",
        "    index = (i*5)+j-1\n",
        "    camou_order = camou_index[index]\n",
        "    fig.add_subplot(rows, columns, i*5+j)\n",
        "    plt.imshow(inv_normalize(trainset[camou_order][0] + camou_detach[camou_dict[camou_order]]).permute(1, 2, 0))\n",
        "    plt.axis('off')\n",
        "plt.savefig(f\"/content/drive/MyDrive/dummy_cifar_photogrid4.png\", bbox_inches='tight')\n",
        "\n",
        "plt.subplots_adjust(wspace=0, hspace=0, left=0, right=1, bottom=0, top=1)\n",
        "'''"
      ]
    },
    {
      "cell_type": "code",
      "execution_count": null,
      "metadata": {
        "id": "kPSUpa2VL4sC"
      },
      "outputs": [],
      "source": [
        "plt.imshow(inv_normalize(targetset[0][0]).permute(1, 2, 0))\n",
        "plt.axis('off')\n",
        "plt.savefig(f\"/content/drive/MyDrive/target_deer.png\", bbox_inches='tight')"
      ]
    },
    {
      "cell_type": "code",
      "execution_count": null,
      "metadata": {
        "id": "P1mraa5GikFa"
      },
      "outputs": [],
      "source": []
    },
    {
      "cell_type": "markdown",
      "metadata": {
        "id": "BpVgevpXJLmw"
      },
      "source": [
        "## Compute L2 Distance graph"
      ]
    },
    {
      "cell_type": "code",
      "execution_count": null,
      "metadata": {
        "id": "4xD0HcZ_JNWt"
      },
      "outputs": [],
      "source": [
        "import scipy.spatial.distance as dist\n",
        "\n",
        "target_image = targetset[0][0].flatten()\n",
        "\n",
        "poison_images = torch.stack([(data[0] + poison_detach[poison_dict[data[2]]]).flatten() for data in poisonset], dim=0)\n",
        "clean_poison_images = torch.stack([data[0].flatten() for data in poisonset], dim=0)\n",
        "poison_class_set = data.Subset(trainset, trainset.get_index(poison_class))\n",
        "poison_class_images = torch.stack([data[0].flatten()  for data in poison_class_set], dim=0)\n",
        "\n",
        "\n",
        "camou_images = torch.stack([(data[0] + camou_detach[camou_dict[data[2]]]).flatten() for data in camouset], dim=0)\n",
        "clean_camou_images = torch.stack([data[0].flatten() for data in camouset], dim=0)\n",
        "camou_class_set = data.Subset(trainset, trainset.get_index(camou_class))\n",
        "camou_class_images = torch.stack([data[0].flatten()  for data in camou_class_set], dim=0)\n",
        "\n",
        "\n",
        "l2_ds_target_poison = []\n",
        "l2_ds_target_poison_class = []\n",
        "l2_ds_poisoncentroid_poison = []\n",
        "l2_ds_poisoncentroid_poison_poison_class = []\n",
        "\n",
        "poison_centroid = torch.mean(poison_class_images) \n",
        "\n",
        "for image in poison_images:\n",
        "  l2d_t = dist.euclidean(image, target_image)\n",
        "  l2_ds_target_poison_class.append(l2d_t)\n",
        "\n",
        "  l2d_pc = dist.euclidean(image, poison_centroid)\n",
        "  l2_ds_poisoncentroid_poison.append(l2d_pc)\n",
        "\n",
        "for image in poison_class_images:\n",
        "  l2d_t = dist.euclidean(image, target_image)\n",
        "  l2_ds_target_poison.append(l2d_t)\n",
        "\n",
        "  l2d_pc = dist.euclidean(image, poison_centroid)\n",
        "  l2_ds_poisoncentroid_poison_poison_class.append(l2d_pc)"
      ]
    },
    {
      "cell_type": "code",
      "execution_count": null,
      "metadata": {
        "id": "j2Lhb3qQ1idY"
      },
      "outputs": [],
      "source": [
        "centroids_bin = np.arange(10, 110, 5)\n",
        "target_bin =  np.arange(30, 140, 5)"
      ]
    },
    {
      "cell_type": "code",
      "execution_count": null,
      "metadata": {
        "id": "1NwrfgNiVyDC"
      },
      "outputs": [],
      "source": [
        "plt.hist(l2_ds_target_poison_class, bins=target_bin, alpha = 0.5, density=True, label=\"total poison class\")\n",
        "plt.hist(l2_ds_target_poison, bins=target_bin, alpha = 0.4, density=True, label=\"poisons\")\n",
        "plt.title(\"L2 Distance to Target Image Features\", fontsize=14)\n",
        "plt.ylabel(\"Count\", fontsize=14)\n",
        "#plt.xlabel(\"L2 Distance to Target Image Features\")\n",
        "plt.legend(fontsize=12)"
      ]
    },
    {
      "cell_type": "code",
      "execution_count": null,
      "metadata": {
        "id": "fSLy6TsPw1wC"
      },
      "outputs": [],
      "source": [
        "plt.hist(l2_ds_poisoncentroid_poison_poison_class, bins = centroids_bin, alpha = 0.5, density=True, label=\"total poison class\")\n",
        "plt.hist(l2_ds_poisoncentroid_poison, bins = centroids_bin, alpha = 0.4, density=True, label=\"poisons\")\n",
        "plt.title(\"L2 Distance to Poison Class Mean\", fontsize=14)\n",
        "plt.ylabel(\"Count\", fontsize=14)\n",
        "plt.legend(fontsize=12)"
      ]
    },
    {
      "cell_type": "code",
      "execution_count": null,
      "metadata": {
        "id": "IMDHtwHaxWqf"
      },
      "outputs": [],
      "source": [
        "l2_ds_target_camou = []\n",
        "l2_ds_target_camou_class = []\n",
        "l2_ds_camoucentroid_camou = []\n",
        "l2_ds_camoucentroid_camou_class = []\n",
        "\n",
        "camou_centroid = torch.mean(camou_class_images) \n",
        "\n",
        "for image in camou_images:\n",
        "  l2d_t = dist.euclidean(image, target_image)\n",
        "  l2_ds_target_camou_class.append(l2d_t)\n",
        "\n",
        "  l2d_pc = dist.euclidean(image, camou_centroid)\n",
        "  l2_ds_camoucentroid_camou.append(l2d_pc)\n",
        "\n",
        "for image in camou_class_images:\n",
        "  l2d_t = dist.euclidean(image, target_image)\n",
        "  l2_ds_target_camou.append(l2d_t)\n",
        "\n",
        "  l2d_pc = dist.euclidean(image, camou_centroid)\n",
        "  l2_ds_camoucentroid_camou_class.append(l2d_pc)"
      ]
    },
    {
      "cell_type": "code",
      "execution_count": null,
      "metadata": {
        "id": "zz3fSi7Bx7gA"
      },
      "outputs": [],
      "source": [
        "plt.hist(l2_ds_camoucentroid_camou_class, bins = centroids_bin, alpha = 0.5, density=True, label=\"total camouflage class\")\n",
        "plt.hist(l2_ds_camoucentroid_camou, bins = centroids_bin, alpha = 0.4, density=True, label=\"camouflages\")\n",
        "plt.title(\"L2 Distance to Camouflage Class Mean\", fontsize=14)\n",
        "plt.ylabel(\"Count\", fontsize=14)\n",
        "plt.legend(fontsize=12)\n"
      ]
    },
    {
      "cell_type": "code",
      "execution_count": null,
      "metadata": {
        "id": "PplVV7r3yca4"
      },
      "outputs": [],
      "source": [
        "plt.hist(l2_ds_target_camou_class, bins = target_bin,alpha = 0.5, density=True, label=\"total\\ncamouflage class\")\n",
        "plt.hist(l2_ds_target_camou, bins = target_bin , alpha = 0.4, density=True, label=\"camouflages\")\n",
        "plt.title(\"L2 Distance to Target Image Features\", fontsize=14)\n",
        "plt.ylabel(\"Count\", fontsize=14)\n",
        "plt.legend(fontsize=12)"
      ]
    }
  ],
  "metadata": {
    "accelerator": "GPU",
    "colab": {
      "provenance": []
    },
    "gpuClass": "standard",
    "kernelspec": {
      "display_name": "Python 3",
      "name": "python3"
    },
    "language_info": {
      "name": "python"
    }
  },
  "nbformat": 4,
  "nbformat_minor": 0
}