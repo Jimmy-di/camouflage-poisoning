{
  "cells": [
    {
      "cell_type": "markdown",
      "source": [
        "# Libraries/Imports"
      ],
      "metadata": {
        "id": "jlPGRHPaEFsG"
      }
    },
    {
      "cell_type": "code",
      "execution_count": null,
      "metadata": {
        "id": "McEe2CqKm4EG"
      },
      "outputs": [],
      "source": [
        "# sci-kit learn libraries\n",
        "import sklearn\n",
        "from sklearn.svm import LinearSVC\n",
        "from sklearn.datasets import make_classification\n",
        "from sklearn.metrics import hinge_loss\n",
        "\n",
        "# dataset and ml libraries\n",
        "from keras.datasets import cifar10\n",
        "import torch\n",
        "import numpy as np\n",
        "\n",
        "# plotting libraries\n",
        "import matplotlib.pyplot as plt\n",
        "import seaborn as sns\n",
        "\n",
        "# miscellaneous\n",
        "import time\n",
        "import random\n",
        "import sys\n",
        "from pdb import set_trace\n",
        "\n",
        "# Set seeds for poison / camou / target selection here:\n",
        "\n",
        "random.seed(222222)"
      ]
    },
    {
      "cell_type": "markdown",
      "source": [
        "# Training SVM on CIFAR-10"
      ],
      "metadata": {
        "id": "-Ylk_UHHELS4"
      }
    },
    {
      "cell_type": "code",
      "execution_count": null,
      "metadata": {
        "id": "QR1C9PvKnOEy"
      },
      "outputs": [],
      "source": [
        "# Class Dictionary for CIFAR10\n",
        "classDict = {'plane': 0, 'car': 1, 'bird': 2, 'cat': 3, 'deer': 4,\n",
        "             'dog': 5, 'frog': 6, 'horse': 7, 'ship': 8, 'truck': 9}\n",
        "\n",
        "binaryClasses = {0:'Machine', 1:'Animal'} # Machine , Animal\n",
        "\n",
        "# Method to obtain camouflages: use \"BREW\" for Gradient matching or \"FLIP\" by label flipping\n",
        "CAMO = 'BREW'"
      ]
    },
    {
      "cell_type": "code",
      "source": [
        "# Mounts Google drive to be used with Colab. \n",
        "from google.colab import drive\n",
        "drive.mount('/content/drive')"
      ],
      "metadata": {
        "colab": {
          "base_uri": "https://localhost:8080/"
        },
        "id": "4AOxVbYpUon-",
        "outputId": "d64ec486-034f-4d32-8d42-11024ce22a3c"
      },
      "execution_count": null,
      "outputs": [
        {
          "output_type": "stream",
          "name": "stdout",
          "text": [
            "Mounted at /content/drive\n"
          ]
        }
      ]
    },
    {
      "cell_type": "code",
      "execution_count": null,
      "metadata": {
        "colab": {
          "base_uri": "https://localhost:8080/"
        },
        "id": "9cPmxBKamnNz",
        "outputId": "fee5b2cb-e10b-43fb-a6e3-d5a7f9dd3f28"
      },
      "outputs": [
        {
          "output_type": "stream",
          "name": "stdout",
          "text": [
            "Downloading data from https://www.cs.toronto.edu/~kriz/cifar-10-python.tar.gz\n",
            "170500096/170498071 [==============================] - 12s 0us/step\n",
            "170508288/170498071 [==============================] - 12s 0us/step\n",
            "Elapsed[s] :  40.798439264297485\n",
            "Train : 0.82016\n",
            "Test : 0.8163\n"
          ]
        }
      ],
      "source": [
        "if __name__ == \"__main__\":\n",
        "    start_time = time.time()\n",
        "    (x_train, y_train), (x_test, y_test) = cifar10.load_data()\n",
        "    model = LinearSVC(loss='hinge', max_iter=3000)\n",
        "\n",
        "    # Normalize pixel values and dividing each image by its forbenius norm\n",
        "    x_train = x_train / 255\n",
        "    x_test = x_test / 255\n",
        "    m_train, m_test = x_train.shape[0], x_test.shape[0]\n",
        "    x_train, x_test = x_train.reshape(m_train, -1), x_test.reshape(m_test, -1)\n",
        "    x_train_norm = np.linalg.norm(x_train, ord=2, axis=1, keepdims=True)\n",
        "    x_test_norm = np.linalg.norm(x_test, ord=2, axis=1, keepdims=True)\n",
        "    x_train = x_train / x_train_norm\n",
        "    x_test = x_test / x_test_norm\n",
        "\n",
        "    # Flatten labels\n",
        "    y_train = y_train.ravel()\n",
        "    y_test = y_test.ravel()\n",
        "    animal_indices = []\n",
        "    machine_indices = []\n",
        "\n",
        "    # Convert to Binary dataset\n",
        "    for i in range(m_test):\n",
        "        if y_test[i] in [2,3,4,5,6,7]:\n",
        "            y_test[i] = 1\n",
        "        else:\n",
        "            y_test[i] = 0\n",
        "    for i in range(m_train):\n",
        "        if y_train[i] in [2,3,4,5,6,7]:\n",
        "            y_train[i] = 1\n",
        "            animal_indices.append(i)\n",
        "        else:\n",
        "            y_train[i] = 0\n",
        "            machine_indices.append(i)\n",
        "            \n",
        "    #fit\n",
        "    model.fit(x_train, y_train)\n",
        "\n",
        "    # Check support vectors\n",
        "    decision_function = model.decision_function(x_train)\n",
        "    support_vector_indices = np.where(np.abs(decision_function) <= 1 + 1e-15)[0]\n",
        "    support_vectors = x_train[support_vector_indices]\n",
        "\n",
        "    # Check clean training results\n",
        "    print(\"Elapsed[s] : \", time.time() - start_time)\n",
        "    print(\"Train :\", model.score(x_train, y_train))\n",
        "    print(\"Test :\", model.score(x_test, y_test))"
      ]
    },
    {
      "cell_type": "markdown",
      "source": [
        "# Plotting Histogram of Model Decision Boundary vs. Distance"
      ],
      "metadata": {
        "id": "NeFqnNLfEVg-"
      }
    },
    {
      "cell_type": "code",
      "execution_count": null,
      "metadata": {
        "id": "DhzFsCiYm4Nc"
      },
      "outputs": [],
      "source": [
        "## Correct classifications\n",
        "correct_classified_indices = []\n",
        "for i in range(len(decision_function)):\n",
        "  if (decision_function[i] < 0 and y_train[i] == 0) or (decision_function[i] >= 0 and y_train[i] == 1):\n",
        "    correct_classified_indices.append(i)"
      ]
    },
    {
      "cell_type": "code",
      "execution_count": null,
      "metadata": {
        "id": "JsF0PazDoEl8",
        "colab": {
          "base_uri": "https://localhost:8080/",
          "height": 295
        },
        "outputId": "13d30a97-54a1-482f-ec93-1c7154206d78"
      },
      "outputs": [
        {
          "output_type": "display_data",
          "data": {
            "text/plain": [
              "<Figure size 432x288 with 1 Axes>"
            ],
            "image/png": "[encoded data removed]"
          },
          "metadata": {
            "needs_background": "light"
          }
        }
      ],
      "source": [
        "## Histogram of correctly classified points vs distance\n",
        "correct_classified_point_distance = abs(decision_function[correct_classified_indices])\n",
        "histogram = sns.histplot(abs(decision_function),label='All Points',color=\"r\")\n",
        "histogram.set_xlabel(\"Distance between Point and Decision Boundary\")\n",
        "histogram.set_ylabel(\"Number of Points\")\n",
        "histogram.set_title(\"Distance vs. Number of Points\")\n",
        "sns.histplot(correct_classified_point_distance,label='Correctly Classified Points')\n",
        "plt.legend()\n",
        "plt.show()"
      ]
    },
    {
      "cell_type": "markdown",
      "source": [
        "# Showing Images Function"
      ],
      "metadata": {
        "id": "iOOFi5mCGLj_"
      }
    },
    {
      "cell_type": "code",
      "execution_count": null,
      "metadata": {
        "id": "afJJTDGwoTD2"
      },
      "outputs": [],
      "source": [
        "def show_image(img, norm = None):\n",
        "  if norm:\n",
        "    #To show Image:\n",
        "    target = img * norm\n",
        "    plt.imshow(target.reshape(32, 32, 3))\n",
        "    plt.show()\n",
        "  else:\n",
        "    plt.imshow(img.reshape(32, 32, 3))\n",
        "    plt.show()"
      ]
    },
    {
      "cell_type": "markdown",
      "source": [
        "# Calculating Gradient Function"
      ],
      "metadata": {
        "id": "hfDaPwfcGNbw"
      }
    },
    {
      "cell_type": "code",
      "source": [
        "# Calculate the gradient of hinge loss\n",
        "# Hinge Los: margin = y_true * pred_decision is always negative (since the signs disagree), implying 1 - margin is always greater than 1. \n",
        "def gradient(x, y_pred, y_true):\n",
        "\n",
        "  if y_true == 0:\n",
        "    y_true = -1\n",
        "\n",
        "  yxi = x * y_true\n",
        "  if y_pred*y_true >= 1:\n",
        "    return torch.zeros(len(x))\n",
        "\n",
        "  return torch.tensor(-1) * yxi"
      ],
      "metadata": {
        "id": "8Src7gg0GQLz"
      },
      "execution_count": null,
      "outputs": []
    },
    {
      "cell_type": "markdown",
      "source": [
        "# Choosing a Target"
      ],
      "metadata": {
        "id": "YVW5-PMOF1RX"
      }
    },
    {
      "cell_type": "code",
      "execution_count": null,
      "metadata": {
        "id": "2AL4FJ4rCG0D",
        "colab": {
          "base_uri": "https://localhost:8080/",
          "height": 571
        },
        "outputId": "688c785a-e0d3-4f30-fe16-29dfb95e9a9e"
      },
      "outputs": [
        {
          "output_type": "stream",
          "name": "stdout",
          "text": [
            "[  67  191  199  212  247  249  259  294  325  422  583  706  769  801\n",
            "  818  830  844  933  966 1065 1094 1147 1152 1186 1197 1216 1222 1411\n",
            " 1424 1516 1538 1574 1629 1746 1760 1789 1852 1983 1994 2032 2120 2151\n",
            " 2154 2178 2179 2201 2224 2234 2294 2355 2385 2395 2410 2420 2533 2542\n",
            " 2579 2636 2647 2806 2960 2994 2996 3021 3127 3144 3216 3261 3306 3355\n",
            " 3358 3396 3430 3441 3490 3492 3823 3879 3913 3955 3971 4171 4346 4374\n",
            " 4467 4474 4503 4504 4525 4538 4558 4564 4574 4626 4752 4771 4806 4823\n",
            " 4849 4870 4999 5014 5028 5047 5119 5169 5180 5184 5273 5294 5347 5381\n",
            " 5399 5409 5573 5605 5655 5685 5737 5929 6048 6101 6112 6260 6261 6277\n",
            " 6281 6336 6358 6415 6514 6544 6611 6646 6765 6782 6904 7013 7117 7126\n",
            " 7129 7156 7217 7228 7234 7368 7412 7472 7519 7625 7668 7684 7775 7807\n",
            " 7816 7884 7896 7943 7949 8056 8061 8123 8165 8174 8219 8231 8277 8376\n",
            " 8528 8639 8683 8688 8691 8724 8759 8789 8970 8972 8977 8979 9033 9060\n",
            " 9131 9154 9159 9214 9216 9362 9392 9434 9589 9749 9836 9891 9898 9900\n",
            " 9924 9932]\n",
            "Target chosen from class: Animal\n",
            "Target assigned to class: Machine\n"
          ]
        },
        {
          "output_type": "display_data",
          "data": {
            "text/plain": [
              "<Figure size 432x288 with 1 Axes>"
            ],
            "image/png": "[encoded data removed]"
          },
          "metadata": {
            "needs_background": "light"
          }
        }
      ],
      "source": [
        "close_pos = []\n",
        "\n",
        "# Run model on Test set\n",
        "\n",
        "decision_function_test = model.decision_function(x_test)\n",
        "\n",
        "# Find all support vectors of the model\n",
        "close_positives = np.where((decision_function_test <= 0.1) & (decision_function_test > 0))[0]\n",
        "print(close_positives)\n",
        "\n",
        "# Making sure the target is chosen from animals\n",
        "for ind in close_positives:\n",
        "  if y_test[ind] == 1:\n",
        "    close_pos.append(ind)\n",
        "\n",
        "target_indice = random.choices(close_pos)\n",
        "\n",
        "target_label = 0\n",
        "target = x_test[target_indice[0]].reshape(1, -1)\n",
        "target_original_label = y_test[target_indice[0]]\n",
        "\n",
        "#To show Target Image:\n",
        "plt.imshow(target.reshape(32, 32, 3) * x_test_norm[target_indice[0]])\n",
        "print(\"Target chosen from class:\", binaryClasses[target_original_label])\n",
        "print(\"Target assigned to class:\", binaryClasses[target_label])\n",
        "target_label = -1\n",
        "\n",
        "# Deleting Target from orignal test set.\n",
        "x_test = np.delete(x_test, target_indice[0], 0)\n",
        "target_original_label = y_test[target_indice[0]]\n",
        "y_test = np.delete(y_test, target_indice[0], 0)"
      ]
    },
    {
      "cell_type": "code",
      "execution_count": null,
      "metadata": {
        "id": "QBXD2p85cGV2"
      },
      "outputs": [],
      "source": [
        "# Implement for tensor, change labels to -1\n",
        "\n",
        "target_pred = model.decision_function(target)\n",
        "#print(target_pred) # x.w\n",
        "\n",
        "target_grad = gradient(target, target_pred, target_label)\n",
        "target_gradnorm = np.linalg.norm(target_grad)\n",
        "#print(target_grad)\n",
        "#print(target_gradnorm)"
      ]
    },
    {
      "cell_type": "markdown",
      "metadata": {
        "id": "fkKmA20F2sBH"
      },
      "source": [
        "# Brewing Poisoned Images\n"
      ]
    },
    {
      "cell_type": "markdown",
      "source": [
        "## Constants/Initial Values"
      ],
      "metadata": {
        "id": "x5VktEC6FJNJ"
      }
    },
    {
      "cell_type": "code",
      "execution_count": null,
      "metadata": {
        "id": "n5L0HEMqL7YV"
      },
      "outputs": [],
      "source": [
        "theta = model.coef_\n",
        "budget = 100 # number of poisoned images\n",
        "camou_budget = 200 # Number of camouflaged images\n",
        "eps = 0.001 # perturbation bound\n",
        "M = 101 # optimization steps\n",
        "loss_opt = sys.maxsize # optimal loss\n",
        "delta_opt = 0 # optimal delta\n",
        "poison_opt = [] # optimal poison images"
      ]
    },
    {
      "cell_type": "markdown",
      "source": [
        "## Choosing Poison Images"
      ],
      "metadata": {
        "id": "bWWQ5iy6FMip"
      }
    },
    {
      "cell_type": "markdown",
      "source": [
        "### Choosing Images Randomly from Each Class"
      ],
      "metadata": {
        "id": "yG91tJQfFYsL"
      }
    },
    {
      "cell_type": "code",
      "execution_count": null,
      "metadata": {
        "id": "RfPoQ6Bu2IxM"
      },
      "outputs": [],
      "source": [
        "## Choosing 50 images from each class uniformly\n",
        "random_animal_indices = random.choices(animal_indices,k=camou_budget) # Choosing animal indices\n",
        "random_machine_indices = random.choices(machine_indices,k=budget) # Choosing machine indices\n",
        "random_indices = random_machine_indices\n",
        "\n",
        "original_images = x_train[random_indices]"
      ]
    },
    {
      "cell_type": "markdown",
      "source": [
        "## Poisoning"
      ],
      "metadata": {
        "id": "Afy5c_RiGeOK"
      }
    },
    {
      "cell_type": "code",
      "execution_count": null,
      "metadata": {
        "id": "k8ui0mJMkN_O"
      },
      "outputs": [],
      "source": [
        "# Poisoning\n",
        "\n",
        "# Randomly initialize delta to add on images.\n",
        "from sklearn.metrics import hinge_loss\n",
        "import torch\n",
        "\n",
        "# Calculate mean and std:\n",
        "dm = torch.from_numpy(np.array(np.mean(x_train)))\n",
        "ds = torch.from_numpy(np.array(np.std(x_train)))\n",
        "# Initialize small perturbations\n",
        "\n",
        "poison_delta = (np.random.rand(budget, 3072) - 0.5) * 2     # / x_train_norm\n",
        "poison_delta = poison_delta * eps / ds / 255  \n",
        "\n",
        "x_poisoned = x_train[random_indices]\n",
        "y_poisoned = torch.from_numpy(y_train[random_indices])\n",
        "\n",
        "for i in range(budget):\n",
        "  x_poisoned[i] = np.add(poison_delta[i], x_poisoned[i])\n",
        "\n",
        "poison_tensor = torch.from_numpy(x_poisoned)\n",
        "delta_tensor = (poison_delta)\n",
        "delta_tensor = torch.max(torch.min(delta_tensor, eps / ds / 255), -eps / ds / 255)\n",
        "\n",
        "poisoned_decision = model.decision_function(x_poisoned)\n"
      ]
    },
    {
      "cell_type": "markdown",
      "source": [
        "### Compute Loss Function"
      ],
      "metadata": {
        "id": "BfE4wwkwG2N6"
      }
    },
    {
      "cell_type": "code",
      "source": [
        "# Function to calculate Similarity loss between target and poisons\n",
        "\n",
        "def compute_loss(support_data): \n",
        "  target_losses = 0 \n",
        "\n",
        "  with torch.no_grad():\n",
        "    poisoned_decision = model.decision_function(support_data[\"x_poisoned\"])\n",
        "    poisoned_decision = torch.from_numpy(poisoned_decision)\n",
        "\n",
        "  poison_grad = torch.zeros_like(support_data['poison_tensor'])\n",
        "  cumulative_poison_grad = torch.zeros_like(poison_grad[1])\n",
        "\n",
        "  for i in range(budget):\n",
        "    image = support_data['poison_tensor'][i] + delta_tensor[i]\n",
        "    poison_grad[i] = gradient(image, poisoned_decision[i], y_poisoned[i]) \n",
        "    target_losses -= (poison_grad[i] * support_data[\"target_grad\"]).sum()\n",
        "    cumulative_poison_grad += poison_grad[i]\n",
        "  \n",
        "  poison_grad_norm = torch.linalg.norm(cumulative_poison_grad)\n",
        "    \n",
        "\n",
        "  target_losses = target_losses / (support_data[\"target_gnorm\"] * poison_grad_norm)\n",
        "  target_losses = 1 + target_losses\n",
        "\n",
        "\n",
        "  return target_losses"
      ],
      "metadata": {
        "id": "EuZrCj-hG3rl"
      },
      "execution_count": null,
      "outputs": []
    },
    {
      "cell_type": "code",
      "execution_count": null,
      "metadata": {
        "id": "fQVq-4XyWti7",
        "colab": {
          "base_uri": "https://localhost:8080/",
          "height": 587
        },
        "outputId": "455f69f2-4278-45cd-e9c1-5902861b46cb"
      },
      "outputs": [
        {
          "output_type": "stream",
          "name": "stdout",
          "text": [
            "target gradient norm is: 0.9999999999999959\n",
            "Iteration 0: poison loss is 0.176552217352562\n"
          ]
        },
        {
          "output_type": "display_data",
          "data": {
            "text/plain": [
              "<Figure size 432x288 with 1 Axes>"
            ],
            "image/png": "[encoded data removed]"
          },
          "metadata": {
            "needs_background": "light"
          }
        },
        {
          "output_type": "stream",
          "name": "stdout",
          "text": [
            "Iteration 100: poison loss is 0.16202413685652928\n"
          ]
        },
        {
          "output_type": "display_data",
          "data": {
            "text/plain": [
              "<Figure size 432x288 with 1 Axes>"
            ],
            "image/png": "[encoded data removed]"
          },
          "metadata": {
            "needs_background": "light"
          }
        },
        {
          "output_type": "stream",
          "name": "stdout",
          "text": [
            "Elapsed[s] :  33.999207735061646\n"
          ]
        }
      ],
      "source": [
        "#### fixed version to brew poisons\n",
        "\n",
        "start_time = time.time()\n",
        "\n",
        "# Supporting data\n",
        "target_grad = gradient(target, target_pred, target_label)\n",
        "target_gnorm = torch.linalg.norm(target_grad)\n",
        "limit = (eps / (ds * 255.0)).view(1,1)\n",
        "\n",
        "print(\"target gradient norm is: {}\".format(target_gnorm))\n",
        "support_data = {\n",
        "    \"target_grad\": target_grad, \n",
        "    \"target_gnorm\": target_gnorm, \n",
        "    \"poison_tensor\": poison_tensor, \n",
        "    \"x_poisoned\": x_poisoned,\n",
        "    \"model\": model,\n",
        "    \"eps\": eps,\n",
        "    \"limit\": limit\n",
        "\n",
        "}\n",
        "\n",
        "poison_bounds = torch.zeros_like(delta_tensor)\n",
        "\n",
        "#delta_tensor  = torch.from_numpy(x_poisoned)\n",
        "\n",
        "att_optimizer = torch.optim.Adam([delta_tensor], lr=0.001, weight_decay=0)\n",
        "delta_tensor.grad = torch.zeros_like(delta_tensor)\n",
        "\n",
        "delta_tensor.requires_grad_()\n",
        "\n",
        "for j in range(101):\n",
        "  loss = compute_loss(support_data)\n",
        "  #print(\"loss is {}\".format(loss))\n",
        "  loss.backward(retain_graph = True)\n",
        "  att_optimizer.step()\n",
        "  att_optimizer.zero_grad()\n",
        "  \n",
        "  for i in range(budget):\n",
        "    poison_bounds[i] = poison_tensor[i]\n",
        "  \n",
        "  with torch.no_grad():\n",
        "   #Projection Step \n",
        "\n",
        "    delta_tensor.data = torch.max(torch.min(delta_tensor, limit), -1 * limit)\n",
        "    delta_tensor.data = torch.max(torch.min(delta_tensor, (1 - dm) / ds -\n",
        "                                                            poison_bounds), -dm / ds - poison_bounds)\n",
        "    \n",
        "    if j % 100 == 0:\n",
        "      print(\"Iteration {}: poison loss is {}\".format(j, loss))\n",
        "      show_image(poison_tensor[0]+delta_tensor[0], x_train_norm[random_indices[0]])\n",
        "\n",
        "print(\"Elapsed[s] : \", time.time() - start_time)"
      ]
    },
    {
      "cell_type": "code",
      "execution_count": null,
      "metadata": {
        "id": "5PIEKoilYr8s",
        "colab": {
          "base_uri": "https://localhost:8080/",
          "height": 551
        },
        "outputId": "ba415ef6-8e61-453b-badf-0241172ec7ca"
      },
      "outputs": [
        {
          "output_type": "stream",
          "name": "stdout",
          "text": [
            "Example poison image: \n"
          ]
        },
        {
          "output_type": "display_data",
          "data": {
            "text/plain": [
              "<Figure size 432x288 with 1 Axes>"
            ],
            "image/png": "[encoded data removed]"
          },
          "metadata": {
            "needs_background": "light"
          }
        },
        {
          "output_type": "stream",
          "name": "stdout",
          "text": [
            "Target image: \n"
          ]
        },
        {
          "output_type": "display_data",
          "data": {
            "text/plain": [
              "<Figure size 432x288 with 1 Axes>"
            ],
            "image/png": "[encoded data removed]"
          },
          "metadata": {
            "needs_background": "light"
          }
        }
      ],
      "source": [
        "x_poisoned = delta_tensor.cpu().detach().numpy()\n",
        "x_original = poison_tensor.numpy()\n",
        "for index in range(budget):\n",
        "  x_train[random_indices[index]] = x_original[index] + x_poisoned[index]\n",
        "  \n",
        "print(\"Example poison image: \")\n",
        "show_image(x_train[random_indices[0]], x_train_norm[random_indices[0]])\n",
        "\n",
        "model2 = LinearSVC(loss='hinge', max_iter=3000)\n",
        "model2.fit(x_train, y_train)\n",
        "\n",
        "\n",
        "\n",
        "print(\"Target image: \")\n",
        "show_image(target, x_test_norm[target_indice[0]])"
      ]
    },
    {
      "cell_type": "code",
      "execution_count": null,
      "metadata": {
        "id": "cwZAX566CxQh",
        "colab": {
          "base_uri": "https://localhost:8080/"
        },
        "outputId": "2e544134-e2d1-40a7-d4a2-10907b745506"
      },
      "outputs": [
        {
          "output_type": "stream",
          "name": "stdout",
          "text": [
            "Test acc with model 2: 0.8164816481648165\n",
            "Train acc with model 2: 0.82026\n",
            "Test acc with model 1: 0.8162816281628162\n",
            "Train acc with model 1: 0.82016\n",
            "Without poison target is classified as:  Animal\n",
            "With poison target is classified as:  Machine\n",
            "[0.0486186]\n",
            "[-0.04327719]\n"
          ]
        }
      ],
      "source": [
        "print(\"Test acc with model 2: {}\".format(model2.score(x_test, y_test)))\n",
        "print(\"Train acc with model 2: {}\".format(model2.score(x_train, y_train)))\n",
        "print(\"Test acc with model 1: {}\".format(model.score(x_test, y_test)))\n",
        "print(\"Train acc with model 1: {}\".format(model.score(x_train, y_train)))\n",
        "print(\"Without poison target is classified as: \", binaryClasses[model.predict(target)[0]])\n",
        "print(\"With poison target is classified as: \", binaryClasses[model2.predict(target)[0]])\n",
        "\n",
        "print(model.decision_function(target))\n",
        "print(model2.decision_function(target))"
      ]
    },
    {
      "cell_type": "markdown",
      "source": [
        "Brewing Camo "
      ],
      "metadata": {
        "id": "wTeB36Yz56eh"
      }
    },
    {
      "cell_type": "code",
      "source": [
        "if CAMO == 'BREW':\n",
        "# Initialize small perturbations\n",
        "  x_camo = x_train[random_animal_indices]\n",
        "  y_camo = torch.from_numpy(y_train[random_animal_indices])\n",
        "\n",
        "  dm = torch.from_numpy(np.array(np.mean(x_train)))\n",
        "  ds = torch.from_numpy(np.array(np.std(x_train)))\n",
        "\n",
        "  camo_delta = (np.random.rand(camou_budget, 3072) - 0.5) * 2  \n",
        "  camo_delta = camo_delta * eps / ds / 255  \n",
        "\n",
        "  for i in range(camou_budget):\n",
        "    x_camo[i] = np.add(camo_delta[i], x_camo[i])\n",
        "\n",
        "  camo_tensor = torch.from_numpy(x_camo)\n",
        "  delta_tensor = (camo_delta)\n",
        "  delta_tensor = torch.max(torch.min(delta_tensor, eps / ds / 255), -eps / ds / 255)\n"
      ],
      "metadata": {
        "id": "PDz5OGZ154l2"
      },
      "execution_count": null,
      "outputs": []
    },
    {
      "cell_type": "code",
      "source": [
        "# Function to calculate similarity loss for camou\n",
        "# todo - merge with function to calculate poison_loss\n",
        "\n",
        "def compute_loss(support_data): # parameters here\n",
        "  target_losses = 0 \n",
        "\n",
        "  with torch.no_grad():\n",
        "    poisoned_decision = model.decision_function(support_data[\"x_camo\"])\n",
        "    poisoned_decision = torch.from_numpy(poisoned_decision)\n",
        "\n",
        "  camo_grad = torch.zeros_like(camo_tensor)\n",
        "  cumulative_camo_grad = torch.zeros_like(camo_grad[1])\n",
        "\n",
        "  for i in range(budget):\n",
        "    image = camo_tensor[i] + delta_tensor[i]\n",
        "    camo_grad[i] = gradient(image, poisoned_decision[i], y_camo[i]) \n",
        "    target_losses -= (camo_grad[i] * support_data[\"target_grad\"]).sum()\n",
        "    cumulative_camo_grad += camo_grad[i]\n",
        "  \n",
        "  camo_grad_norm = torch.linalg.norm(cumulative_camo_grad)\n",
        "    \n",
        "\n",
        "  target_losses = target_losses / (support_data[\"target_gnorm\"] * camo_grad_norm)\n",
        "  target_losses = 1 + target_losses\n",
        "\n",
        "\n",
        "  return target_losses"
      ],
      "metadata": {
        "id": "Iq3eiIDf8jkH"
      },
      "execution_count": null,
      "outputs": []
    },
    {
      "cell_type": "code",
      "source": [
        "if CAMO == 'BREW':\n",
        "# Supporting data\n",
        "  target_grad = gradient(target, target_pred, target_original_label)\n",
        "  target_gnorm = torch.linalg.norm(target_grad)\n",
        "  limit = (eps / (ds * 255.0)).view(1,1)\n",
        "\n",
        "  print(\"target gradient norm is: {}\".format(target_gnorm))\n",
        "  support_data = {\n",
        "    \"target_grad\": target_grad, \n",
        "    \"target_gnorm\": target_gnorm, \n",
        "    \"camo_tensor\": camo_tensor, \n",
        "    \"x_camo\": x_camo,\n",
        "    \"model\": model,\n",
        "    \"eps\": eps,\n",
        "    \"limit\": limit\n",
        "\n",
        "  }\n",
        "\n",
        "  camo_bounds = torch.zeros_like(delta_tensor)\n",
        "\n",
        "#delta_tensor  = torch.from_numpy(x_poisoned)\n",
        "\n",
        "  att_optimizer = torch.optim.Adam([delta_tensor], lr=0.001, weight_decay=0)\n",
        "  delta_tensor.grad = torch.zeros_like(delta_tensor)\n",
        "\n",
        "  delta_tensor.requires_grad_()\n",
        "\n",
        "  for j in range(M):\n",
        "    loss = compute_loss(support_data)\n",
        "    #print(\"loss is {}\".format(loss))\n",
        "    loss.backward(retain_graph = True)\n",
        "    att_optimizer.step()\n",
        "    att_optimizer.zero_grad()\n",
        "  \n",
        "    for i in range(budget):\n",
        "     camo_bounds[i] = camo_tensor[i]\n",
        "  \n",
        "    with torch.no_grad():\n",
        "    #Projection Step \n",
        "\n",
        "      delta_tensor.data = torch.max(torch.min(delta_tensor, limit), -1 * limit)\n",
        "      delta_tensor.data = torch.max(torch.min(delta_tensor, (1 - dm) / ds -\n",
        "                                                            camo_bounds), -dm / ds - camo_bounds)\n",
        "    \n",
        "      if j % 100 == 0:\n",
        "        print(\"Iteration {}: poison loss is {}\".format(j, loss))\n",
        "        show_image(camo_tensor[0]+delta_tensor[0], x_train_norm[random_animal_indices[0]])\n"
      ],
      "metadata": {
        "colab": {
          "base_uri": "https://localhost:8080/",
          "height": 569
        },
        "id": "jyOSFnxq8jmN",
        "outputId": "3693b693-913d-4617-f966-c03f8549bf9a"
      },
      "execution_count": null,
      "outputs": [
        {
          "output_type": "stream",
          "name": "stdout",
          "text": [
            "target gradient norm is: 0.9999999999999959\n",
            "Iteration 0: poison loss is 0.17032057571425885\n"
          ]
        },
        {
          "output_type": "display_data",
          "data": {
            "text/plain": [
              "<Figure size 432x288 with 1 Axes>"
            ],
            "image/png": "[encoded data removed]"
          },
          "metadata": {
            "needs_background": "light"
          }
        },
        {
          "output_type": "stream",
          "name": "stdout",
          "text": [
            "Iteration 100: poison loss is 0.15621832426113236\n"
          ]
        },
        {
          "output_type": "display_data",
          "data": {
            "text/plain": [
              "<Figure size 432x288 with 1 Axes>"
            ],
            "image/png": "[encoded data removed]"
          },
          "metadata": {
            "needs_background": "light"
          }
        }
      ]
    },
    {
      "cell_type": "code",
      "source": [],
      "metadata": {
        "id": "tSkaPanLb8uq"
      },
      "execution_count": null,
      "outputs": []
    },
    {
      "cell_type": "code",
      "source": [
        "if CAMO != 'BREW':\n",
        "  # Label Flipping\n",
        "  x_train = np.concatenate((x_train, x_poisoned))\n",
        "  y_train = np.concatenate((y_train, np.ones(budget)))\n",
        "else:\n",
        "  x_camo = delta_tensor.cpu().detach().numpy()\n",
        "  x_original2 = camo_tensor.numpy()\n",
        "  for index in range(camou_budget):\n",
        "    x_train[random_animal_indices[index]] = x_original2[index] + x_camo[index]\n",
        "  \n",
        "  print(\"Example camo image: \")\n",
        "  show_image(x_train[random_animal_indices[0]], x_train_norm[random_animal_indices[0]])\n"
      ],
      "metadata": {
        "colab": {
          "base_uri": "https://localhost:8080/",
          "height": 284
        },
        "id": "ZVSle7uC5bp7",
        "outputId": "f07897ca-1aaa-423c-af21-0d989f092439"
      },
      "execution_count": null,
      "outputs": [
        {
          "output_type": "stream",
          "name": "stdout",
          "text": [
            "Example camo image: \n"
          ]
        },
        {
          "output_type": "display_data",
          "data": {
            "text/plain": [
              "<Figure size 432x288 with 1 Axes>"
            ],
            "image/png": "[encoded data removed]"
          },
          "metadata": {
            "needs_background": "light"
          }
        }
      ]
    },
    {
      "cell_type": "code",
      "execution_count": null,
      "metadata": {
        "id": "KmFEGidl__9Y",
        "colab": {
          "base_uri": "https://localhost:8080/"
        },
        "outputId": "f7342b96-f3a9-485f-d30e-9641a878e9d4"
      },
      "outputs": [
        {
          "output_type": "execute_result",
          "data": {
            "text/plain": [
              "LinearSVC(loss='hinge', max_iter=3000)"
            ]
          },
          "metadata": {},
          "execution_count": 22
        }
      ],
      "source": [
        "# Retrain again with camous \n",
        "\n",
        "model3 = LinearSVC(loss='hinge', max_iter=3000)\n",
        "model3.fit(x_train, y_train)\n",
        "\n"
      ]
    },
    {
      "cell_type": "code",
      "execution_count": null,
      "metadata": {
        "id": "NObSQ_CvC6vS",
        "colab": {
          "base_uri": "https://localhost:8080/"
        },
        "outputId": "9669c863-6a2f-49b9-8154-ff58000d7186"
      },
      "outputs": [
        {
          "output_type": "stream",
          "name": "stdout",
          "text": [
            "After duplicating poison images target is classified as:  Animal\n",
            "Test acc with model 3: 0.8164816481648165\n",
            "Train acc with model 3: 0.82022\n",
            "[0.01965919]\n"
          ]
        }
      ],
      "source": [
        "print(\"After duplicating poison images target is classified as: \", binaryClasses[model3.predict(target)[0]])\n",
        "print(\"Test acc with model 3: {}\".format(model3.score(x_test, y_test)))\n",
        "print(\"Train acc with model 3: {}\".format(model3.score(x_train, y_train)))\n",
        "print(model3.decision_function(target))"
      ]
    }
  ],
  "metadata": {
    "colab": {
      "provenance": []
    },
    "kernelspec": {
      "display_name": "Python 3",
      "name": "python3"
    },
    "language_info": {
      "name": "python"
    }
  },
  "nbformat": 4,
  "nbformat_minor": 0
}